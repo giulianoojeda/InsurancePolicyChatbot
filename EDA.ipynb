{
  "cells": [
    {
      "cell_type": "markdown",
      "metadata": {
        "id": "re5RjlGMjo0e"
      },
      "source": [
        "# Exploratory Data Analysis\n",
        "\n",
        "Exploratory Data Analysis (EDA) for textual data from PDFs is a multi-step process that involves:\n",
        "\n",
        "## Setup & Initialization:\n",
        "\n",
        "Let's Import dependencies and initialize some variables."
      ]
    },
    {
      "cell_type": "code",
      "execution_count": 56,
      "metadata": {},
      "outputs": [
        {
          "name": "stdout",
          "output_type": "stream",
          "text": [
            "Note: you may need to restart the kernel to use updated packages.\n"
          ]
        }
      ],
      "source": [
        "%pip install -r requirements.txt > /dev/null"
      ]
    },
    {
      "cell_type": "code",
      "execution_count": 57,
      "metadata": {
        "colab": {
          "base_uri": "https://localhost:8080/"
        },
        "id": "iDxhsbcHjoTg",
        "outputId": "56f79297-58b8-4868-df66-b04fea5dc2d1"
      },
      "outputs": [
        {
          "name": "stdout",
          "output_type": "stream",
          "text": [
            "The autoreload extension is already loaded. To reload it, use:\n",
            "  %reload_ext autoreload\n"
          ]
        }
      ],
      "source": [
        "%load_ext autoreload\n",
        "%autoreload 2\n",
        "\n",
        "# import src modules\n",
        "from src import config\n",
        "from src import ETL\n",
        "\n",
        "# import langchain related modules\n",
        "from langchain.document_loaders import PyPDFDirectoryLoader\n",
        "from langchain.text_splitter import (\n",
        "    CharacterTextSplitter,\n",
        "    RecursiveCharacterTextSplitter,\n",
        "    MarkdownTextSplitter\n",
        ")"
      ]
    },
    {
      "cell_type": "markdown",
      "metadata": {
        "id": "1KanRjZ-ke3O"
      },
      "source": [
        "## Data Extraction:\n",
        "\n",
        "In this section, we will download the data from an s3 bucket and save it locally."
      ]
    },
    {
      "cell_type": "code",
      "execution_count": 58,
      "metadata": {
        "colab": {
          "base_uri": "https://localhost:8080/",
          "height": 390
        },
        "id": "oRtLZyGziNpn",
        "outputId": "9639891f-6247-41b1-8e72-c70a4d618d4c"
      },
      "outputs": [
        {
          "name": "stdout",
          "output_type": "stream",
          "text": [
            "Files from anyoneai-datasets/queplan_insurance/ already downloaded to /home/gio/ANYONEAI/InsurancePolicyChatbot/dataset.\n"
          ]
        }
      ],
      "source": [
        "ETL.extract_from_s3(\n",
        "    config.S3_BUCKET_NAME,\n",
        "    config.S3_BUCKET_PREFIX,\n",
        "    config.AWS_ACCESS_KEY_ID,\n",
        "    config.AWS_SECRET_ACCESS_KEY,\n",
        "    config.DATASET_ROOT_PATH,\n",
        ")"
      ]
    },
    {
      "cell_type": "markdown",
      "metadata": {},
      "source": [
        "## Document Loading:\n",
        "Now let's load the PDFs containing Insurance Policies using PyPDFDirectoryLoader from LangChain."
      ]
    },
    {
      "cell_type": "code",
      "execution_count": 59,
      "metadata": {},
      "outputs": [],
      "source": [
        "loader = PyPDFDirectoryLoader(config.DATASET_ROOT_PATH)\n",
        "documents = loader.load()"
      ]
    },
    {
      "cell_type": "markdown",
      "metadata": {},
      "source": [
        "Each Page is a ```Document```.\n",
        "\n",
        "A ```Document``` contains text (```page_content```) and ```metadata```"
      ]
    },
    {
      "cell_type": "code",
      "execution_count": 60,
      "metadata": {},
      "outputs": [
        {
          "name": "stdout",
          "output_type": "stream",
          "text": [
            "Number of pages: 267\n"
          ]
        }
      ],
      "source": [
        "print(f\"Number of pages: {len(documents)}\")"
      ]
    },
    {
      "cell_type": "markdown",
      "metadata": {},
      "source": [
        "Let's take a look at it's metadata. We can see that it contains the following fields:\n",
        "\n",
        "- ```source``` : The source of the document\n",
        "- ```page``` : The page number of the document\n",
        "\n",
        "this information can be used to trace back the document to the source for debugging purposes."
      ]
    },
    {
      "cell_type": "code",
      "execution_count": 61,
      "metadata": {},
      "outputs": [
        {
          "name": "stdout",
          "output_type": "stream",
          "text": [
            "The Page's File name is:  /home/gio/ANYONEAI/InsurancePolicyChatbot/dataset/POL320130223.pdf\n",
            "The Page number is:  0\n"
          ]
        }
      ],
      "source": [
        "print(\"The Page's File name is: \", documents[0].metadata[\"source\"])\n",
        "print(\"The Page number is: \", documents[0].metadata[\"page\"])"
      ]
    },
    {
      "cell_type": "markdown",
      "metadata": {},
      "source": [
        "Now, let's look at a glimpse of the first page of the first document."
      ]
    },
    {
      "cell_type": "code",
      "execution_count": 62,
      "metadata": {},
      "outputs": [
        {
          "name": "stdout",
          "output_type": "stream",
          "text": [
            "SEGURO COLECTIVO COMPLEMENTARIO DE SALUD \n",
            "Incorporada al Depósito de Pólizas bajo el código POL320130223\n",
            "ARTICULO 1°: REGLAS APLICABLES AL CONTRATO\n",
            " \n",
            " \n",
            " \n",
            " \n",
            " \n",
            " \n",
            " \n",
            "Se aplicarán al presente contrato de seguro las disposiciones contenidas en los artículos siguientes y las\n",
            "normas legales de carácter imperativo establecidas en el Título VIII, del Libro II, del Código de Comercio. Sin\n",
            "embargo, se entenderán válidas las estipulaciones contractuales que sean más beneficiosas para el\n",
            "asegurado o beneficia ...\n"
          ]
        }
      ],
      "source": [
        "print(documents[0].page_content[0:500], \"...\")"
      ]
    },
    {
      "cell_type": "markdown",
      "metadata": {},
      "source": [
        "The reason why we explore the first page of the first document is to get a sense of the structure of the document. This analisis will help us in the next step which is the Document Splitting phase, where we will split the document into chunks to feed our vector store. In order to ensure that each chunk has coherent, self-contained information, we need to define de appropriate chunk size. \n",
        "\n",
        "Given the content of our dataset, the logical division would be to break down by articles and major subheadings since they seem to encapsulate a singular topic or concept."
      ]
    },
    {
      "cell_type": "markdown",
      "metadata": {},
      "source": [
        "# Document Splitting\n",
        "\n",
        "Now, let's split the document into chunks of text for further processing.\n",
        "\n",
        "### Chunking Considerations\n",
        "\n",
        "Several variables play a role in determining the best chunking strategy, and these variables vary depending on the use case. Here are some key aspects to keep in mind:\n",
        "\n",
        "1. **What is the nature of the content being indexed?** \n",
        "\n",
        "    Based on the content of the dataset, we're working with insurance policies. The logical division would be to break down by articles and major subheadings since they seem to encapsulate a singular topic or concept.\n",
        "\n",
        "2. **Which embedding model will be used, and what chunk sizes does it perform optimally on?**\n",
        "\n",
        "    We will be using OpenAI GPT-3.5 Turbo, which performs optimally on chunks of 512 tokens.\n",
        "\n",
        "3. **What are your expectations for the length and complexity of user queries?** \n",
        "\n",
        "    Since this solution will act as a chatbot, we can expect the queries to be mostly short and simple. However, we should also consider the possibility of more complex queries, such as \"Cual es la diferencia entre el seguro de vida y el seguro de salud?\" (What is the difference between life insurance and health insurance?)\n",
        "\n",
        "4. **How will the retrieved results be utilized within your specific application?**\n",
        "\n",
        "    The retrieved results will be used to answer user queries. The user will be able to ask questions about the content of the documents, and the chatbot will respond with the most relevant information."
      ]
    },
    {
      "cell_type": "markdown",
      "metadata": {},
      "source": [
        "### Chunking methods\n",
        "\n",
        "There are different methods for chunking, and each of them might be appropriate for different situations. By examining the strengths and weaknesses of each method, our goal is to identify the right scenario to apply them to."
      ]
    },
    {
      "cell_type": "markdown",
      "metadata": {},
      "source": [
        "#### Fixed-size chunking\n",
        "\n",
        "This is the most common and straightforward approach to chunking: we simply decide the number of tokens in our chunk and, optionally, whether there should be any overlap between them. "
      ]
    },
    {
      "cell_type": "code",
      "execution_count": 91,
      "metadata": {},
      "outputs": [
        {
          "name": "stdout",
          "output_type": "stream",
          "text": [
            "Chunk Size count:  267\n",
            "Bajo este beneficio se podrán contratar las siguientes categorías de medicamentos ambulatorios, las cuales\n",
            "deberán estar expresamente indicadas en las Condiciones Particulares de la póliza. Las categorías de\n",
            "medicamentos podrán ser las siguientes:\n",
            " \n",
            " \n",
            " \n",
            " \n",
            "i. Medicamentos Ambulatorios Genéricos: Se entienden incluidos en esta categoría los medicamentos que\n",
            "se comercializan bajo la denominación del principio activo que incorpora, siendo igual en composición y\n",
            "forma farmacéutica a la marca original, pero sin marca comercial, figurando en su lugar el nombre de su\n",
            "principio activo;\n",
            " \n",
            " \n",
            " \n",
            " \n",
            "ii. Medicamentos Ambulatorios No Genéricos: Se entienden incluidos en esta categoría los medicamentos no\n",
            "comprendidos en la categoría anterior, que se comercializan bajo un nombre comercial específico sujeto a la\n",
            "protección comercial que otorgan las agencias internacionales de patentes y que han sido registrados por un\n",
            "laboratorio farmacéutico, los que pueden corresponder a la fórmula original o a una copia;\n",
            " \n",
            " \n",
            " \n",
            " \n",
            "iii. Medicamentos Ambulatorios Inmunosupresores o Inmunomoduladores: Se entienden en esta categoría\n",
            "aquellos fármacos que actúan sobre el sistema inmunológico disminuyendo los efectos adversos sobre la\n",
            "enfermedad o trasplante. Estos medicamentos pueden ser genéricos o no genéricos;\n"
          ]
        }
      ],
      "source": [
        "c_splitter = CharacterTextSplitter(chunk_size=1000, chunk_overlap=200)\n",
        "\n",
        "c_splitter_result = c_splitter.split_documents(documents)\n",
        "\n",
        "print(\"Chunk Size count: \", len(c_splitter_result))\n",
        "print(c_splitter_result[10].page_content)\n"
      ]
    },
    {
      "cell_type": "markdown",
      "metadata": {},
      "source": [
        "As you can see, the chunk count is the same as the page count, which means that each page is a chunk. This is not ideal because it doesn't take into account the structure of the document."
      ]
    },
    {
      "cell_type": "markdown",
      "metadata": {},
      "source": [
        "## Context aware splitting\n",
        "\n",
        "Chunking aims to keep text with common context together.\n",
        "\n",
        "#### Recursive Chunking\n",
        "\n",
        "Recursive chunking divides the input text into smaller chunks in a hierarchical and iterative manner using a set of separators. If the initial attempt at splitting the text doesn’t produce chunks of the desired size or structure, the method recursively calls itself on the resulting chunks with a different separator or criterion until the desired chunk size or structure is achieved. This means that while the chunks aren’t going to be exactly the same size, they’ll still “aspire” to be of a similar size."
      ]
    },
    {
      "cell_type": "code",
      "execution_count": 98,
      "metadata": {},
      "outputs": [
        {
          "name": "stdout",
          "output_type": "stream",
          "text": [
            "Chunk Size count:  735\n",
            "complemento de lo que cubra el sistema de salud previsional o de bienestar u otro seguro o convenio, de\n",
            "acuerdo a los porcentajes y límites de reembolso o pago definidos para este beneficio en el Cuadro de\n",
            "Beneficios de las Condiciones Particulares de la póliza.\n",
            " \n",
            " \n",
            " \n",
            " \n",
            "Bajo este beneficio se podrán contratar las siguientes prestaciones, las cuales deberán estar expresamente\n",
            "indicadas en las Condiciones Particulares de la póliza. Las prestaciones podrán ser las siguientes:\n",
            " \n",
            " \n",
            " \n",
            " \n",
            "i) Consultas médicas generales;\n",
            " \n",
            " \n",
            "ii) Consultas médicas especialistas;\n",
            " \n",
            " \n",
            "iii) Consultas médicas domiciliarias;\n",
            " \n",
            " \n",
            "iv) Exámenes de laboratorio;\n",
            " \n",
            " \n",
            "v) Exámenes de imagenología, ultrasonografía y medicina nuclear;\n",
            "-------------------\n",
            "vi) Procedimientos de diagnóstico no quirúrgicos;\n",
            " \n",
            " \n",
            "vii) Procedimientos terapéuticos no quirúrgicos;\n",
            " \n",
            " \n",
            "viii) Cirugía ambulatoria: Bajo esta prestación se re-em-bolsarán los gastos médicos en que se incurra sólo\n",
            "por concepto de las prestaciones descritas en los puntos i), ii) y iii) de la letra A), Beneficio de\n",
            "Hospitalización.\n",
            " \n",
            " \n",
            " \n",
            " \n",
            "D) BENEFICIO MEDICAMENTOS AMBULATORIOS\n",
            " \n",
            " \n",
            " \n",
            " \n",
            "Bajo este beneficio la compañía aseguradora cubrirá los gastos médicos incurridos por concepto de\n",
            "medicamentos recetados exclusivamente en forma ambulatoria por un médico, en complemento de lo que\n",
            "cubra el sistema de salud previsional o de bienestar u otro seguro o convenio, de acuerdo a los porcentajes\n",
            "y límites de reembolso o pago definidos para este beneficio en el Cuadro de Beneficios de las Condiciones\n",
            "Particulares de la póliza.\n",
            " \n",
            " \n",
            " \n",
            " \n",
            "Los medicamentos ambulatorios cubiertos por este beneficio serán sólo aquellos que el asegurado deba\n"
          ]
        }
      ],
      "source": [
        "r_splitter = RecursiveCharacterTextSplitter(\n",
        "    chunk_size=1000, chunk_overlap=200, length_function=len\n",
        ")\n",
        "\n",
        "r_splitter_result = r_splitter.split_documents(documents)\n",
        "\n",
        "print(\"Chunk Size count: \", len(r_splitter_result))\n",
        "\n",
        "print(r_splitter_result[11].page_content)\n",
        "print (\"-------------------\")\n",
        "print(r_splitter_result[12].page_content)\n"
      ]
    },
    {
      "cell_type": "markdown",
      "metadata": {},
      "source": []
    },
    {
      "cell_type": "code",
      "execution_count": null,
      "metadata": {},
      "outputs": [],
      "source": []
    }
  ],
  "metadata": {
    "colab": {
      "provenance": []
    },
    "kernelspec": {
      "display_name": "Python 3",
      "name": "python3"
    },
    "language_info": {
      "codemirror_mode": {
        "name": "ipython",
        "version": 3
      },
      "file_extension": ".py",
      "mimetype": "text/x-python",
      "name": "python",
      "nbconvert_exporter": "python",
      "pygments_lexer": "ipython3",
      "version": "3.11.4"
    }
  },
  "nbformat": 4,
  "nbformat_minor": 0
}
