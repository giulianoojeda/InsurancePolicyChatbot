{
  "cells": [
    {
      "cell_type": "markdown",
      "metadata": {
        "id": "re5RjlGMjo0e"
      },
      "source": [
        "# Exploratory Data Analysis\n",
        "\n",
        "Exploratory Data Analysis (EDA) for textual data from PDFs is a multi-step process that involves:\n",
        "\n",
        "## Setup & Initialization:\n",
        "\n",
        "Let's Import dependencies and initialize some variables."
      ]
    },
    {
      "cell_type": "code",
      "execution_count": 1,
      "metadata": {
        "colab": {
          "base_uri": "https://localhost:8080/"
        },
        "id": "iDxhsbcHjoTg",
        "outputId": "56f79297-58b8-4868-df66-b04fea5dc2d1"
      },
      "outputs": [],
      "source": [
        "import os\n",
        "import sys\n",
        "from io import BytesIO\n",
        "\n",
        "import boto3\n",
        "import pandas as pd\n",
        "import matplotlib.pyplot as plt\n",
        "import seaborn as sns\n",
        "import nltk\n",
        "from nltk.corpus import stopwords\n",
        "from wordcloud import WordCloud\n",
        "from dotenv import load_dotenv\n",
        "\n",
        "# import src modules\n",
        "from src import config\n",
        "from src import extract \n",
        "\n",
        "# import langchain related modules\n",
        "from langchain.document_loaders import PyPDFDirectoryLoader\n",
        "from langchain.text_splitter import RecursiveCharacterTextSplitter, CharacterTextSplitter"
      ]
    },
    {
      "cell_type": "markdown",
      "metadata": {
        "id": "1KanRjZ-ke3O"
      },
      "source": [
        "## Data Loading:\n",
        "\n",
        "In this section, we will download the data from an s3 bucket and save it locally."
      ]
    },
    {
      "cell_type": "code",
      "execution_count": 2,
      "metadata": {
        "colab": {
          "base_uri": "https://localhost:8080/",
          "height": 390
        },
        "id": "oRtLZyGziNpn",
        "outputId": "9639891f-6247-41b1-8e72-c70a4d618d4c"
      },
      "outputs": [
        {
          "name": "stdout",
          "output_type": "stream",
          "text": [
            "Downloading files from s3://anyoneai-datasets/queplan_insurance/ to /home/gio/ANYONEAI/InsurancePolicyChatbot/dataset ...\n",
            "Downloaded queplan_insurance/POL120190177.pdf to /home/gio/ANYONEAI/InsurancePolicyChatbot/dataset/POL120190177.pdf\n",
            "Downloaded queplan_insurance/POL320130223.pdf to /home/gio/ANYONEAI/InsurancePolicyChatbot/dataset/POL320130223.pdf\n",
            "Downloaded queplan_insurance/POL320150503.pdf to /home/gio/ANYONEAI/InsurancePolicyChatbot/dataset/POL320150503.pdf\n",
            "Downloaded queplan_insurance/POL320180100.pdf to /home/gio/ANYONEAI/InsurancePolicyChatbot/dataset/POL320180100.pdf\n",
            "Downloaded queplan_insurance/POL320190074.pdf to /home/gio/ANYONEAI/InsurancePolicyChatbot/dataset/POL320190074.pdf\n",
            "Downloaded queplan_insurance/POL320200071.pdf to /home/gio/ANYONEAI/InsurancePolicyChatbot/dataset/POL320200071.pdf\n",
            "Downloaded queplan_insurance/POL320200214.pdf to /home/gio/ANYONEAI/InsurancePolicyChatbot/dataset/POL320200214.pdf\n",
            "Downloaded queplan_insurance/POL320210063.pdf to /home/gio/ANYONEAI/InsurancePolicyChatbot/dataset/POL320210063.pdf\n",
            "Downloaded queplan_insurance/POL320210210.pdf to /home/gio/ANYONEAI/InsurancePolicyChatbot/dataset/POL320210210.pdf\n",
            "Files from anyoneai-datasets/queplan_insurance/ downloaded to /home/gio/ANYONEAI/InsurancePolicyChatbot/dataset.\n"
          ]
        }
      ],
      "source": [
        "extract.extract_from_s3(config.S3_BUCKET_NAME, \n",
        "                    config.S3_BUCKET_PREFIX, \n",
        "                    config.AWS_ACCESS_KEY_ID, \n",
        "                    config.AWS_SECRET_ACCESS_KEY, \n",
        "                    config.DATASET_ROOT_PATH)"
      ]
    },
    {
      "cell_type": "markdown",
      "metadata": {},
      "source": [
        "Now let's load the PDFs containing Insurance Policies using PyPDFDirectoryLoader from LangChain."
      ]
    },
    {
      "cell_type": "code",
      "execution_count": 3,
      "metadata": {},
      "outputs": [],
      "source": [
        "loader = PyPDFDirectoryLoader(config.DATASET_ROOT_PATH)\n",
        "documents = loader.load()"
      ]
    },
    {
      "cell_type": "markdown",
      "metadata": {},
      "source": [
        "Each Page is a ```Document```.\n",
        "\n",
        "A ```Document``` contains text (```page_content```) and ```metadata```"
      ]
    },
    {
      "cell_type": "code",
      "execution_count": 6,
      "metadata": {},
      "outputs": [
        {
          "name": "stdout",
          "output_type": "stream",
          "text": [
            "Number of pages: 267\n"
          ]
        }
      ],
      "source": [
        "print(f\"Number of pages: {len(documents)}\")"
      ]
    },
    {
      "cell_type": "markdown",
      "metadata": {},
      "source": [
        "Now, let's look at the first page of the first document."
      ]
    },
    {
      "cell_type": "code",
      "execution_count": 9,
      "metadata": {},
      "outputs": [
        {
          "name": "stdout",
          "output_type": "stream",
          "text": [
            "SEGURO COLECTIVO COMPLEMENTARIO DE SALUD \n",
            "Incorporada al Depósito de Pólizas bajo el código POL320130223\n",
            "ARTICULO 1°: REGLAS APLICABLES AL CONTRATO\n",
            " \n",
            " \n",
            " \n",
            " \n",
            " \n",
            " \n",
            " \n",
            "Se aplicarán al presente contrato de seguro las disposiciones contenidas en los artículos siguientes y las\n",
            "normas legales de carácter imperativo establecidas en el Título VIII, del Libro II, del Código de Comercio. Sin\n",
            "embargo, se entenderán válidas las estipulaciones contractuales que sean más beneficiosas para el\n",
            "asegurado o beneficia\n"
          ]
        }
      ],
      "source": [
        "page = documents[0]\n",
        "print (page.page_content[0:500])"
      ]
    },
    {
      "cell_type": "markdown",
      "metadata": {},
      "source": [
        "Let's take a look at it's metadata. We can see that it contains the following fields:\n",
        "\n",
        "- ```source``` : The source of the document\n",
        "- ```page``` : The page number of the document\n",
        "\n",
        "this information can be used to trace back the document to the source for debugging purposes."
      ]
    },
    {
      "cell_type": "code",
      "execution_count": 17,
      "metadata": {},
      "outputs": [
        {
          "name": "stdout",
          "output_type": "stream",
          "text": [
            "The Page's File name is:  /home/gio/ANYONEAI/InsurancePolicyChatbot/dataset/POL320130223.pdf\n",
            "The Page number is:  0\n"
          ]
        }
      ],
      "source": [
        "print(\"The Page's File name is: \", page.metadata[\"source\"])\n",
        "print(\"The Page number is: \", page.metadata[\"page\"])"
      ]
    },
    {
      "cell_type": "markdown",
      "metadata": {},
      "source": [
        "## Data Cleaning & Preprocessing:\n",
        "\n",
        "In this section, we will clean the data and preprocess it for further analysis."
      ]
    },
    {
      "cell_type": "code",
      "execution_count": null,
      "metadata": {
        "id": "SiIns4mhlTb0"
      },
      "outputs": [],
      "source": []
    }
  ],
  "metadata": {
    "colab": {
      "provenance": []
    },
    "kernelspec": {
      "display_name": "Python 3",
      "name": "python3"
    },
    "language_info": {
      "codemirror_mode": {
        "name": "ipython",
        "version": 3
      },
      "file_extension": ".py",
      "mimetype": "text/x-python",
      "name": "python",
      "nbconvert_exporter": "python",
      "pygments_lexer": "ipython3",
      "version": "3.11.4"
    }
  },
  "nbformat": 4,
  "nbformat_minor": 0
}
