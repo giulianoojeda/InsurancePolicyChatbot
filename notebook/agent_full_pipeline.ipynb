{
 "cells": [
  {
   "cell_type": "markdown",
   "metadata": {
    "id": "re5RjlGMjo0e"
   },
   "source": [
    "# Full Pipeline - Insurance Policy Generation Chatbot\n",
    "\n",
    "In retrieval augmented generation (RAG), an LLM retrieves contextual documents from an external dataset as part of its execution.\n",
    "\n",
    "This processs is illustrated in the figure below.\n",
    "\n",
    "![pipeline](assets/pipeline.jpeg)\n",
    "\n",
    "from the Document Loading phase to the Output phase, the pipeline is as follows:\n",
    "\n",
    "1. **Document Loading**: The documents are loaded from the external dataset.\n",
    "2. **Splitting**: The documents are split into chunks.\n",
    "3. **Storage**: The chunks are stored in a database.\n",
    "4. **Retrieval**: The LLM retrieves the relevant chunks from the database.\n",
    "5. **Agent Output & Testing**: The Conversational Retrieval Agent outputs the retrieved chunks to the user. Moreover, the agent is tested on a set of test questions.\n"
   ]
  },
  {
   "cell_type": "markdown",
   "metadata": {},
   "source": [
    "## Setup & Initialization:\n",
    "\n",
    "Let's Import dependencies and initialize some variables.\n"
   ]
  },
  {
   "cell_type": "code",
   "execution_count": 12,
   "metadata": {},
   "outputs": [
    {
     "name": "stdout",
     "output_type": "stream",
     "text": [
      "Note: you may need to restart the kernel to use updated packages.\n"
     ]
    }
   ],
   "source": [
    "%pip install -r requirements.txt >> /dev/null"
   ]
  },
  {
   "cell_type": "code",
   "execution_count": 1,
   "metadata": {
    "colab": {
     "base_uri": "https://localhost:8080/"
    },
    "id": "iDxhsbcHjoTg",
    "outputId": "56f79297-58b8-4868-df66-b04fea5dc2d1"
   },
   "outputs": [],
   "source": [
    "%load_ext autoreload\n",
    "%autoreload 2\n",
    "\n",
    "import glob\n",
    "import os\n",
    "\n",
    "# import openai api and set api key\n",
    "import openai\n",
    "\n",
    "# import src modules\n",
    "from src import config\n",
    "from src import etl\n",
    "from src.custom_qa_generate_chain import CustomQAGenerateChain\n",
    "\n",
    "# import langchain related modules\n",
    "from chromadb.config import Settings\n",
    "from langchain.document_loaders import PyPDFDirectoryLoader\n",
    "from langchain.text_splitter import RecursiveCharacterTextSplitter\n",
    "from langchain.embeddings.openai import OpenAIEmbeddings\n",
    "from langchain.vectorstores import Chroma\n",
    "from langchain.llms import OpenAI\n",
    "from langchain.retrievers.self_query.base import SelfQueryRetriever\n",
    "from langchain.retrievers import ContextualCompressionRetriever\n",
    "from langchain.retrievers.document_compressors import LLMChainExtractor\n",
    "from langchain.chains.query_constructor.base import AttributeInfo\n",
    "from langchain.chat_models import ChatOpenAI\n",
    "from langchain.chains import RetrievalQA\n",
    "from langchain.prompts import PromptTemplate\n",
    "from langchain.memory import ConversationBufferMemory\n",
    "from langchain.chains import ConversationalRetrievalChain\n",
    "from langchain.agents import Tool\n",
    "from langchain.utilities import GoogleSearchAPIWrapper\n",
    "from langchain.agents.openai_functions_agent.agent_token_buffer_memory import (\n",
    "    AgentTokenBufferMemory,\n",
    ")\n",
    "from langchain.agents.agent_toolkits import create_retriever_tool\n",
    "from langchain.agents.openai_functions_agent.base import OpenAIFunctionsAgent\n",
    "from langchain.schema.messages import SystemMessage\n",
    "from langchain.prompts import MessagesPlaceholder\n",
    "from langchain.agents import AgentExecutor\n",
    "from langchain.evaluation.qa import QAEvalChain\n",
    "from langchain.output_parsers.regex import RegexParser\n",
    "\n",
    "\n",
    "openai.api_key = config.OPENAI_API_KEY"
   ]
  },
  {
   "cell_type": "markdown",
   "metadata": {},
   "source": [
    "## Document Loading:\n",
    "\n",
    "We're going to skip all the explanation and jump straight into the code. If you want to know more about the document exploratory analysis, please refer to the [explore_dataset.ipynb](explore_dataset.ipynb) notebook.\n"
   ]
  },
  {
   "cell_type": "code",
   "execution_count": 2,
   "metadata": {},
   "outputs": [],
   "source": [
    "loader = PyPDFDirectoryLoader(config.DATASET_ROOT_PATH)\n",
    "documents = loader.load()"
   ]
  },
  {
   "cell_type": "code",
   "execution_count": 3,
   "metadata": {},
   "outputs": [],
   "source": [
    "documents = etl.load_documents_with_title(config.DATASET_ROOT_PATH)"
   ]
  },
  {
   "cell_type": "code",
   "execution_count": 4,
   "metadata": {},
   "outputs": [],
   "source": [
    "documents = etl.preprocess(documents)"
   ]
  },
  {
   "cell_type": "markdown",
   "metadata": {},
   "source": [
    "Now that we have preprocessed the data, we can proceed to build our LLM.\n"
   ]
  },
  {
   "cell_type": "markdown",
   "metadata": {},
   "source": [
    "## Document Splitting\n",
    "\n",
    "Now, let's split the document into chunks of text for further processing. How we decided which technique to use is explained in the [explore_dataset.ipynb](explore_dataset.ipynb) notebook.\n"
   ]
  },
  {
   "cell_type": "code",
   "execution_count": 5,
   "metadata": {},
   "outputs": [
    {
     "name": "stdout",
     "output_type": "stream",
     "text": [
      "Chunk Size count:  770\n",
      "SEGURO COLECTIVO COMPLEMENTARIO DE SALUD \n",
      "Incorporada al Depósito de Pólizas bajo el código POL320130223\n",
      "ARTICULO 1°: REGLAS APLICABLES AL CONTRATO\n",
      "\n",
      "Se aplicarán al presente contrato de seguro las disposiciones contenidas en los artículos siguientes y las\n",
      "normas legales de carácter imperativo establecidas en el Título VIII, del Libro II, del Código de Comercio. Sin\n",
      "embargo, se entenderán válidas las estipulaciones contractuales que sean más beneficiosas para el\n",
      "asegurado o beneficiario.\n",
      "\n",
      "ARTÍCULO Nº 2: COBERTURA\n",
      "\n",
      "La compañía de seguros bajo las condiciones y términos que más adelante se establecen, conviene en\n",
      "reembolsar o pagar al beneficiario, los gastos médicos razonables y acostumbrados en que haya incurrido\n",
      "efectivamente un asegurado, en complemento de lo que cubra el sistema de salud previsional o de bienestar\n",
      "u otro seguro o convenio, a consecuencia de una incapacidad cubierta.\n",
      "-------------------\n",
      "Se otorgará cobertura a los gastos médicos incurridos por los asegurados, tanto dentro del territorio nacional\n",
      "como en el extranjero, de acuerdo a los porcentajes y límites de reembolso o pago establecidos en las\n",
      "Condiciones Particulares de la póliza, para cada caso.\n",
      "\n",
      "Los reembolsos o pagos se efectuarán de acuerdo a las coberturas y prestaciones contratadas, las cuales\n",
      "están expresamente señaladas en las Condiciones Particulares de la póliza, y de acuerdo a los porcentajes\n",
      "y límites de reembolso o pago expresados en ellas.\n",
      "\n",
      "Las coberturas descritas en estas Condiciones Generales, pueden ser contratadas en forma conjunta o\n",
      "separada, una o varias de ellas, las cuales se deben indicar expresamente en las Condiciones Particulares\n",
      "de la póliza.\n",
      "-------------------\n",
      "Los asegurados podrán solicitar los reembolsos de los gastos médicos que correspondan por las\n",
      "prestaciones en que incurran durante el período en que se encuentren amparadas por esta póliza, y siempre\n",
      "que ella y sus coberturas se encuentren vigentes a esa fecha y que haya transcurrido el período de carencia\n",
      "señalado en las Condiciones Particulares.\n"
     ]
    }
   ],
   "source": [
    "r_splitter = RecursiveCharacterTextSplitter(\n",
    "    chunk_size=1000,\n",
    "    chunk_overlap=150,\n",
    "    length_function=len,\n",
    "    strip_whitespace=True,\n",
    ")\n",
    "\n",
    "r_splitter_result = r_splitter.split_documents(documents)\n",
    "\n",
    "print(\"Chunk Size count: \", len(r_splitter_result))\n",
    "\n",
    "print(r_splitter_result[0].page_content)\n",
    "print(\"-------------------\")\n",
    "print(r_splitter_result[1].page_content)\n",
    "print(\"-------------------\")\n",
    "print(r_splitter_result[2].page_content)"
   ]
  },
  {
   "cell_type": "markdown",
   "metadata": {},
   "source": [
    "## Storage\n",
    "\n",
    "Now that we have our chunks, we can feed them to our vector store. But first, we need to convert them into embeddings.\n",
    "\n",
    "### Embedding\n",
    "\n",
    "We will use the OpenAI GPT-3.5 Turbo model to generate embeddings for our chunks.\n"
   ]
  },
  {
   "cell_type": "code",
   "execution_count": 6,
   "metadata": {},
   "outputs": [],
   "source": [
    "embedding = OpenAIEmbeddings()"
   ]
  },
  {
   "cell_type": "markdown",
   "metadata": {},
   "source": [
    "### Vector Store\n",
    "\n",
    "We will use Chroma to store our embeddings. Chroma is a vector store that allows us to store and query embeddings.\n"
   ]
  },
  {
   "cell_type": "code",
   "execution_count": 7,
   "metadata": {},
   "outputs": [
    {
     "name": "stdout",
     "output_type": "stream",
     "text": [
      "Creating new Chroma DB\n"
     ]
    }
   ],
   "source": [
    "if not glob.glob(os.path.join(config.CHROMA_PATH, \"*.sqlite3\")):\n",
    "    print(\"Creating new Chroma DB\")\n",
    "    settings = Settings(\n",
    "        chroma_db_impl=\"duckdb+parquet\",\n",
    "        persist_directory=config.CHROMA_PATH,\n",
    "        anonymized_telemetry=False,\n",
    "    )\n",
    "    vector_store = Chroma.from_documents(\n",
    "        r_splitter_result, embedding, persist_directory=config.CHROMA_PATH\n",
    "    )\n",
    "else:\n",
    "    print(\"Loading Chroma DB\")\n",
    "    vector_store = Chroma(\n",
    "        persist_directory=config.CHROMA_PATH, embedding_function=embedding\n",
    "    )"
   ]
  },
  {
   "cell_type": "markdown",
   "metadata": {},
   "source": [
    "Let's see the vector count.\n"
   ]
  },
  {
   "cell_type": "code",
   "execution_count": 8,
   "metadata": {},
   "outputs": [
    {
     "name": "stdout",
     "output_type": "stream",
     "text": [
      "770\n"
     ]
    }
   ],
   "source": [
    "print(vector_store._collection.count())"
   ]
  },
  {
   "cell_type": "markdown",
   "metadata": {},
   "source": [
    "### Testing Similarity Search\n"
   ]
  },
  {
   "cell_type": "markdown",
   "metadata": {},
   "source": [
    "Now that we have our vector store, let's test it by performing a similarity search on a query.\n"
   ]
  },
  {
   "cell_type": "code",
   "execution_count": 9,
   "metadata": {},
   "outputs": [],
   "source": [
    "question = \"Cuales son algunas de las limitaciones de la cobertura?\""
   ]
  },
  {
   "cell_type": "markdown",
   "metadata": {},
   "source": [
    "Here, we retrieve the top 2 most similar chunks to our query.\n"
   ]
  },
  {
   "cell_type": "code",
   "execution_count": 10,
   "metadata": {},
   "outputs": [],
   "source": [
    "response_ss = vector_store.similarity_search(question, k=5)"
   ]
  },
  {
   "cell_type": "markdown",
   "metadata": {},
   "source": [
    "Let's see how many chunks we have retrieved.\n"
   ]
  },
  {
   "cell_type": "code",
   "execution_count": 11,
   "metadata": {},
   "outputs": [
    {
     "data": {
      "text/plain": [
       "5"
      ]
     },
     "execution_count": 11,
     "metadata": {},
     "output_type": "execute_result"
    }
   ],
   "source": [
    "len(response_ss)"
   ]
  },
  {
   "cell_type": "markdown",
   "metadata": {},
   "source": [
    "Now, we will print the top 2 most similar chunks to our query.\n"
   ]
  },
  {
   "cell_type": "code",
   "execution_count": 12,
   "metadata": {},
   "outputs": [
    {
     "name": "stdout",
     "output_type": "stream",
     "text": [
      "The Page's File name is:  /home/gio/ANYONEAI/InsurancePolicyChatbot/notebook/dataset/POL320130223.pdf\n",
      "The Page number is:  14\n",
      "LIMITACIONES DE LAS COBERTURAS:\n",
      "\n",
      "Sin perjuicio de los porcentajes y límites de reembolso o pago que puedan establecerse en las condiciones\n",
      "particulares, la presente póliza contempla las siguientes limitaciones de cobertura:\n",
      "\n",
      "1. En aquellos casos en que el asegurado no esté afiliado a un sistema de salud previsional, privado o\n",
      "estatal, se considerará como gasto efectivamente incurrido el monto que resulte de la aplicación del\n",
      "porcentaje que se señala en las Condiciones Particulares de la póliza sobre el gasto médico reclamado.\n",
      "Sobre el monto resultante se aplicarán los porcentajes y límites de reembolso o pago definidos para cada\n",
      "cobertura en el Cuadro de Beneficios de las Condiciones Particulares de la póliza.\n",
      "-------------------\n",
      "The Page's File name is:  /home/gio/ANYONEAI/InsurancePolicyChatbot/notebook/dataset/POL320190074.pdf\n",
      "The Page number is:  29\n",
      "LIMITACIONES DE LAS COBERTURAS:\n",
      "\n",
      "Sin perjuicio de los porcentajes y límites de reembolso o pago que puedan establecerse en las condiciones\n",
      "particulares, la presente póliza contempla las siguientes limitaciones de cobertura:\n",
      "\n",
      "1. En aquellos casos en que el asegurado no esté afiliado a un sistema de salud previsional, privado o\n",
      "estatal, se considerará como gasto efectivamente incurrido el monto que resulte de la aplicación del\n",
      "porcentaje que se señala en las Condiciones Particulares de la póliza sobre el gasto médico reclamado.\n",
      "Sobre el monto resultante se aplicarán los porcentajes y límites de reembolso o pago definidos para cada\n",
      "cobertura en el Cuadro de Beneficios de las Condiciones Particulares de la póliza.\n",
      "-------------------\n",
      "The Page's File name is:  /home/gio/ANYONEAI/InsurancePolicyChatbot/notebook/dataset/POL320150503.pdf\n",
      "The Page number is:  1\n",
      "límites y topes según sea el porcentaje de bonificación o reembolso entregado por el sistema de salud\n",
      "previsional privado o estatal al que se encuentre afiliado o adherido el Asegurado; límites y topes por\n",
      "patologías y rangos etarios; límites y topes según el Arancel del Prestador determinado en las condiciones\n",
      "particulares; establecido para cada Gasto incluido en las coberturas contratadas y/o para cada cobertura\n",
      "contratada, todo lo que se detalla en el Cuadro de Coberturas de las Condiciones Particulares de la Póliza.\n",
      "-------------------\n",
      "The Page's File name is:  /home/gio/ANYONEAI/InsurancePolicyChatbot/notebook/dataset/POL120190177.pdf\n",
      "The Page number is:  2\n",
      "lesiones.\n",
      "ARTÍCULO 3°: LIMITACIONES DE LAS COBERTURAS\n",
      "Sin perjuicio de los términos, porcentajes, límites y topes de reembolso que se establezcan en el Cuadro de\n",
      "Coberturas de las Condiciones Particulares de la Póliza. Ésta última contempla las siguientes limitaciones de\n",
      "cobertura:\n",
      "a) En aquellos casos en que el asegurado no esté afiliado a un sistema de salud previsional, privado o\n",
      "estatal, la compañía calculará los gastos a ser reembolsados o pagados al Prestador y sobre ellos aplicará el\n",
      "porcentaje de reembolso o pago al prestador que se indica para estos efectos en el Cuadro de Coberturas\n",
      "de las Condiciones Particulares de la Póliza.\n",
      "b) En aquellos casos en que el asegurado esté afiliado a un sistema de salud previsional, privado o estatal, y\n",
      "las prestaciones o gastos reclamados no cuenten con bonificación, aporte y/o reembolso mayor que cero (0)\n",
      "pesos en conformidad al plan o contrato de salud previsional contratado en tales instituciones, por cualquier\n",
      "-------------------\n",
      "The Page's File name is:  /home/gio/ANYONEAI/InsurancePolicyChatbot/notebook/dataset/POL320190074.pdf\n",
      "The Page number is:  16\n",
      "Se otorgará cobertura a los gastos médicos incurridos por los asegurados, tanto dentro del territorio nacional\n",
      "como en el extranjero, de acuerdo a los porcentajes y límites de reembolso o pago establecidos en las\n",
      "Condiciones Particulares de la póliza, para cada caso.\n",
      "\n",
      "Los reembolsos o pagos se efectuarán de acuerdo a las coberturas y prestaciones contratadas, las cuales\n",
      "están expresamente señaladas en las Condiciones Particulares de la póliza, y de acuerdo a los porcentajes\n",
      "y límites de reembolso o pago expresados en ellas.\n",
      "\n",
      "Las coberturas descritas en estas Condiciones Generales, pueden ser contratadas en forma conjunta o\n",
      "separada, una o varias de ellas, las cuales se deben indicar expresamente en las Condiciones Particulares\n",
      "de la póliza.\n",
      "-------------------\n"
     ]
    }
   ],
   "source": [
    "for page in response_ss:\n",
    "    print(\"The Page's File name is: \", page.metadata[\"source\"])\n",
    "    print(\"The Page number is: \", page.metadata[\"page\"])\n",
    "    print(page.page_content)\n",
    "    print(\"-------------------\")"
   ]
  },
  {
   "cell_type": "markdown",
   "metadata": {},
   "source": [
    "Let's persist the vector store so we can use it later.\n"
   ]
  },
  {
   "cell_type": "code",
   "execution_count": 13,
   "metadata": {},
   "outputs": [],
   "source": [
    "vector_store.persist()"
   ]
  },
  {
   "cell_type": "markdown",
   "metadata": {},
   "source": [
    "### Failure modes\n",
    "\n",
    "As you've seen in the previous section, the results are not perfect. Notice that we're getting duplicate information comming from different documents. We will start applying some retrieval strategies to improve the results.\n"
   ]
  },
  {
   "cell_type": "markdown",
   "metadata": {},
   "source": [
    "## Retrieval\n",
    "\n",
    "This section is the centerpiece of our Retrieval Augmented Generation (RAG) Flow and it's where we will apply different strategies to improve the results of our similarity search.\n"
   ]
  },
  {
   "cell_type": "markdown",
   "metadata": {},
   "source": [
    "### Addressing Diversity: Maximum marginal relevance\n",
    "\n",
    "This would be our first attempt to improve the diversity in the search results. `Maximum marginal relevance` (MMR) strives to achieve both relevance to the query and diversity among the results.\n"
   ]
  },
  {
   "cell_type": "code",
   "execution_count": 26,
   "metadata": {},
   "outputs": [],
   "source": [
    "response_mmr = vector_store.max_marginal_relevance_search(\n",
    "    question, k=5, fetch_k=3, lambda_=0.5\n",
    ")"
   ]
  },
  {
   "cell_type": "code",
   "execution_count": 27,
   "metadata": {},
   "outputs": [
    {
     "name": "stdout",
     "output_type": "stream",
     "text": [
      "The Page's File name is:  /home/gio/ANYONEAI/InsurancePolicyChatbot/dataset/POL320190074.pdf\n",
      "The Page number is:  29\n",
      "The Policy's Title is:  SEGURO PARA PRESTACIONES MÉDICAS DE ALTO COSTO\n",
      "\n",
      "LIMITACIONES DE LAS COBERTURAS:\n",
      "\n",
      "Sin perjuicio de los porcentajes y límites de reembolso o pago que puedan establecerse en las condiciones\n",
      "particulares, la presente póliza contempla las siguientes limitaciones de cobertura:\n",
      "\n",
      "1. En aquellos casos en que el asegurado no esté afiliado a un sistema de salud previsional, privado o\n",
      "estatal, se considerará como gasto efectivamente incurrido el monto que resulte de la aplicación del\n",
      "porcentaje que se señala en las Condiciones Particulares de la póliza sobre el gasto médico reclamado.\n",
      "Sobre el monto resultante se aplicarán los porcentajes y límites de reembolso o pago definidos para cada\n",
      "cobertura en el Cuadro de Beneficios de las Condiciones Particulares de la póliza.\n",
      "-------------------\n",
      "The Page's File name is:  /home/gio/ANYONEAI/InsurancePolicyChatbot/dataset/POL320130223.pdf\n",
      "The Page number is:  14\n",
      "The Policy's Title is:  SEGURO COLECTIVO COMPLEMENTARIO DE SALUD \n",
      "\n",
      "LIMITACIONES DE LAS COBERTURAS:\n",
      "\n",
      "Sin perjuicio de los porcentajes y límites de reembolso o pago que puedan establecerse en las condiciones\n",
      "particulares, la presente póliza contempla las siguientes limitaciones de cobertura:\n",
      "\n",
      "1. En aquellos casos en que el asegurado no esté afiliado a un sistema de salud previsional, privado o\n",
      "estatal, se considerará como gasto efectivamente incurrido el monto que resulte de la aplicación del\n",
      "porcentaje que se señala en las Condiciones Particulares de la póliza sobre el gasto médico reclamado.\n",
      "Sobre el monto resultante se aplicarán los porcentajes y límites de reembolso o pago definidos para cada\n",
      "cobertura en el Cuadro de Beneficios de las Condiciones Particulares de la póliza.\n",
      "-------------------\n",
      "The Page's File name is:  /home/gio/ANYONEAI/InsurancePolicyChatbot/dataset/POL320150503.pdf\n",
      "The Page number is:  1\n",
      "The Policy's Title is:  PÓLIZA DE SEGURO PARA PRESTACIONES MÉDICAS DERIVADAS DE ACCIDENTE\n",
      "\n",
      "límites y topes según sea el porcentaje de bonificación o reembolso entregado por el sistema de salud\n",
      "previsional privado o estatal al que se encuentre afiliado o adherido el Asegurado; límites y topes por\n",
      "patologías y rangos etarios; límites y topes según el Arancel del Prestador determinado en las condiciones\n",
      "particulares; establecido para cada Gasto incluido en las coberturas contratadas y/o para cada cobertura\n",
      "contratada, todo lo que se detalla en el Cuadro de Coberturas de las Condiciones Particulares de la Póliza.\n",
      "-------------------\n"
     ]
    }
   ],
   "source": [
    "for page in response_mmr:\n",
    "    print(\"The Page's File name is: \", page.metadata[\"source\"])\n",
    "    print(\"The Page number is: \", page.metadata[\"page\"])\n",
    "    print(\"The Policy's Title is: \", page.metadata[\"title\"])\n",
    "    print(\"\")\n",
    "    print(page.page_content)\n",
    "    print(\"-------------------\")"
   ]
  },
  {
   "cell_type": "markdown",
   "metadata": {},
   "source": [
    "### Addressing Specificity: working with metadata using self-query retrievers\n"
   ]
  },
  {
   "cell_type": "markdown",
   "metadata": {},
   "source": [
    "What if there is a question related to a specific document? For example, \"Cual es la cobertura en SEGURO PARA PRESTACIONES MÉDICAS DE ALTO COSTO?\".\n",
    "\n",
    "Fortunatelly, crhomaDb supports operations on `metadata`.\n",
    "\n",
    "`metadata` provides context for each embedded chunk.\n",
    "\n",
    "However, there is an interesting challenge here: we often want to infer the metadata from the query itself.\n",
    "\n",
    "To address this, we can use `SelfQueryRetriever`, which uses an LLM to extract:\n",
    "\n",
    "1. The `query` string to use for vector search\n",
    "2. A metadata filter to pass in as well\n",
    "\n",
    "Most vector databases support metadata filters, so this doesn't require any new databases or indexes.\n"
   ]
  },
  {
   "cell_type": "code",
   "execution_count": 28,
   "metadata": {},
   "outputs": [],
   "source": [
    "metadata_field_info = [\n",
    "    AttributeInfo(\n",
    "        name=\"source\",\n",
    "        type=\"string\",\n",
    "        description=\"el nombre de archivo y codigo de la poliza de donde vino este fragmento, el formato es POL{codigo de poliza}.pdf\",\n",
    "    ),\n",
    "    AttributeInfo(\n",
    "        name=\"page\", type=\"integer\", description=\"El numero de pagina de la poliza\"\n",
    "    ),\n",
    "    AttributeInfo(name=\"title\", type=\"string\", description=\"El titulo de la poliza\"),\n",
    "]"
   ]
  },
  {
   "cell_type": "code",
   "execution_count": 29,
   "metadata": {},
   "outputs": [],
   "source": [
    "document_content_description = \"Polizas de Seguro\"\n",
    "llm = OpenAI(temperature=config.TEMPERATURE)\n",
    "retriever_sqr = SelfQueryRetriever.from_llm(\n",
    "    llm, vector_store, document_content_description, metadata_field_info, verbose=True\n",
    ")"
   ]
  },
  {
   "cell_type": "code",
   "execution_count": 30,
   "metadata": {},
   "outputs": [],
   "source": [
    "question = \"Cual es la cobertura en la poliza PÓLIZA DE ACCIDENTES PERSONALES / REEMBOLSO GASTOS MÉDICOS?\""
   ]
  },
  {
   "cell_type": "code",
   "execution_count": 31,
   "metadata": {},
   "outputs": [
    {
     "name": "stderr",
     "output_type": "stream",
     "text": [
      "/home/gio/ANYONEAI/InsurancePolicyChatbot/.venv/lib/python3.10/site-packages/langchain/chains/llm.py:280: UserWarning: The predict_and_parse method is deprecated, instead pass an output parser directly to LLMChain.\n",
      "  warnings.warn(\n"
     ]
    },
    {
     "name": "stdout",
     "output_type": "stream",
     "text": [
      "query='cobertura poliza accidentes personales reembolso gastos medicos' filter=Comparison(comparator=<Comparator.EQ: 'eq'>, attribute='title', value='PÓLIZA DE ACCIDENTES PERSONALES / REEMBOLSO GASTOS MÉDICOS') limit=None\n"
     ]
    }
   ],
   "source": [
    "retriever_results = retriever_sqr.get_relevant_documents(question)"
   ]
  },
  {
   "cell_type": "code",
   "execution_count": 32,
   "metadata": {},
   "outputs": [
    {
     "name": "stdout",
     "output_type": "stream",
     "text": [
      "The Page's File name is:  /home/gio/ANYONEAI/InsurancePolicyChatbot/dataset/POL120190177.pdf\n",
      "The Page number is:  0\n",
      "The Policy's Title is:  PÓLIZA DE ACCIDENTES PERSONALES / REEMBOLSO GASTOS MÉDICOS\n",
      "\n",
      "PÓLIZA DE ACCIDENTES PERSONALES / REEMBOLSO GASTOS MÉDICOS\n",
      "Incorporada al Depósito de Pólizas bajo el código POL120190177\n",
      "ARTÍCULO 1°: REGLAS APLICABLES AL CONTRATO\n",
      "Se aplicarán al presente contrato de seguro las disposiciones contenidas en los artículos siguientes y las\n",
      "normas legales de carácter imperativo establecidas en el título VIII, del Libro II, del Código de Comercio. Sin\n",
      "embargo, se entenderán válidas las estipulaciones contractuales que sean más beneficiosas para el\n",
      "asegurado o el beneficiario.\n",
      "ARTÍCULO 2º: COBERTURA Y MATERIA ASEGURADA\n",
      "La Compañía Aseguradora reembolsará al asegurado o pagará directamente al prestador de salud los\n",
      "Gastos Médicos Razonables y Acostumbrados y Efectivamente Incurridos, una vez se haya otorgado y\n",
      "pagado la cobertura del sistema de salud previsional, seguros complementarios u otros beneficios\n",
      "contratados por el asegurado. Lo anterior, cuando al asegurado le ocurra un accidente durante la vigencia de\n",
      "The Page's File name is:  /home/gio/ANYONEAI/InsurancePolicyChatbot/dataset/POL120190177.pdf\n",
      "The Page number is:  9\n",
      "The Policy's Title is:  PÓLIZA DE ACCIDENTES PERSONALES / REEMBOLSO GASTOS MÉDICOS\n",
      "\n",
      "departamentos o servicios de bienestar, el Seguro Obligatorio de Accidentes Personales establecido en la\n",
      "Ley Nº 18.490, las Cajas de Compensación de Asignación Familiar, otros Seguros de Salud contratados en\n",
      "favor del Asegurado por otras instituciones, públicas o privadas, u otros seguros contratados en forma\n",
      "individual por él, que contemplen algún aporte, indemnización, reembolso o bonificación, a favor del\n",
      "Asegurado, efectuado o por efectuar, respecto de los gastos susceptibles de ser reembolsados o pagados al\n",
      "Prestador.\n",
      "Para los efectos de esta Póliza, el procedimiento de cálculo de los Gastos Reembolsables considerará\n",
      "únicamente los Gastos Efectivamente Incurridos, esto es, la diferencia entre el monto total de los Gastos\n",
      "Médicos Razonables y Acostumbrados a causa de un Evento y aquellas cantidades que sean restituidas,\n",
      "aportadas, bonificadas o reembolsadas al Asegurado por instituciones o entidades a las que se refiere el\n",
      "The Page's File name is:  /home/gio/ANYONEAI/InsurancePolicyChatbot/dataset/POL120190177.pdf\n",
      "The Page number is:  0\n",
      "The Policy's Title is:  PÓLIZA DE ACCIDENTES PERSONALES / REEMBOLSO GASTOS MÉDICOS\n",
      "\n",
      "Máximo de Gastos Reembolsables por asegurado y de acuerdo a los términos, porcentajes, límites y topes\n",
      "de reembolso por gasto o por asegurado; límites y topes de montos en dinero por atención o prestación;\n",
      "límites y topes según sea el porcentaje de bonificación o reembolso entregado por el sistema de salud\n",
      "previsional privado o estatal al que se encuentre afiliado o adherido el Asegurado; límites y topes por\n",
      "patologías y rangos etarios; establecido para cada Gasto incluido en las coberturas contratadas y/o para\n",
      "cada cobertura contratada, todo lo que se detalla en el Cuadro de Coberturas de las Condiciones\n",
      "Particulares de la Póliza.\n",
      "La Compañía Aseguradora reembolsará al Asegurado o pagará al Prestador los Gastos Médicos\n",
      "Razonables y Acostumbrados, efectivamente incurridos por el Asegurado, respecto del Accidente, como\n",
      "complemento de lo que le cubra el sistema previsional o de salud al que se encuentre afiliado o adherido,\n",
      "The Page's File name is:  /home/gio/ANYONEAI/InsurancePolicyChatbot/dataset/POL120190177.pdf\n",
      "The Page number is:  0\n",
      "The Policy's Title is:  PÓLIZA DE ACCIDENTES PERSONALES / REEMBOLSO GASTOS MÉDICOS\n",
      "\n",
      "contratados por el asegurado. Lo anterior, cuando al asegurado le ocurra un accidente durante la vigencia de\n",
      "esta póliza que demande su internación hospitalaria y cuando este gasto se realice en el o los prestadores\n",
      "de salud que el asegurador determine, durante el período de duración del Reembolso que se establezca en\n",
      "las Condiciones Particulares de la Póliza, que se inicia desde la fecha de ocurrencia del Accidente y que\n",
      "sean originados por éste. Las definiciones de estos conceptos se encuentran contenidos en el artículo 4° de\n",
      "estas Condiciones Generales.\n",
      "La compañía reembolsará los gastos referidos precedentemente, siempre que se cumplan copulativamente\n",
      "los siguientes requisitos: 1) el Accidente que los origina haya ocurrido durante la vigencia del Asegurado en\n",
      "esta Póliza; 2) Que se haya incurrido en los gastos dentro del Período de Duración de Reembolso; 3) Que el\n",
      "monto de gastos supere el Deducible establecido en las Condiciones Particulares de la Póliza; 4) Que la\n"
     ]
    }
   ],
   "source": [
    "for k in retriever_results:\n",
    "    print(\"The Page's File name is: \", k.metadata[\"source\"])\n",
    "    print(\"The Page number is: \", k.metadata[\"page\"])\n",
    "    print(\"The Policy's Title is: \", k.metadata[\"title\"])\n",
    "    print(\"\")\n",
    "    print(k.page_content)"
   ]
  },
  {
   "cell_type": "markdown",
   "metadata": {},
   "source": [
    "Now we can see that the results are more specific to the query. However, this can be improved even further.\n"
   ]
  },
  {
   "cell_type": "markdown",
   "metadata": {},
   "source": [
    "### Last Trick: Compression\n",
    "\n",
    "Another approach for improving the quality of retrieved docs is compression.\n",
    "\n",
    "Information most relevant to a query may be buried in a document with a lot of irrelevant text.\n",
    "\n",
    "Passing that full document through your application can lead to more expensive LLM calls and poorer responses.\n",
    "\n",
    "Contextual compression is meant to fix this. In this particular case, we will combine the `ContextualCompressionRetriever` with the `MMR` retriever to improve the quality of our results.\n"
   ]
  },
  {
   "cell_type": "code",
   "execution_count": 33,
   "metadata": {},
   "outputs": [],
   "source": [
    "compressor = LLMChainExtractor.from_llm(llm)"
   ]
  },
  {
   "cell_type": "code",
   "execution_count": 34,
   "metadata": {},
   "outputs": [],
   "source": [
    "compressor_retriever = ContextualCompressionRetriever(\n",
    "    base_compressor=compressor,\n",
    "    base_retriever=vector_store.as_retriever(search_type=\"mmr\"),\n",
    ")"
   ]
  },
  {
   "cell_type": "code",
   "execution_count": 35,
   "metadata": {},
   "outputs": [],
   "source": [
    "question = \"de que habla el Mantenimiento artificial de la vida?\""
   ]
  },
  {
   "cell_type": "code",
   "execution_count": 36,
   "metadata": {},
   "outputs": [
    {
     "name": "stdout",
     "output_type": "stream",
     "text": [
      "Document 1:\n",
      "\n",
      "\"MANTENIMIENTO ARTIFICIAL DE LA VIDA: tratamiento médico que sustituye o mantiene activas las funciones vitales del cuerpo, que temporal o permanentemente no pueden realizarse de forma independiente, e incluye la respiración asistida, la nutrición e hidratación artificiales y la reanimación cardiopulmonar.\"\n",
      "----------------------------------------------------------------------------------------------------\n",
      "Document 2:\n",
      "\n",
      "\"Mantenimiento artificial de la vida: el Asegurador no pagará el mantenimiento artificial de la vida cuando el paciente sufra de una lesión, enfermedad o padecimiento que requiera tratamiento para el mantenimiento artificial de la vida, cuando no se espere que dichos tratamientos resulten en la recuperación del asegurado\"\n",
      "----------------------------------------------------------------------------------------------------\n",
      "Document 3:\n",
      "\n",
      "ii. Estudios y tratamientos por talla baja, gigantismo y todo tipo de hormonas del crecimiento, así como también Antagonistas LH y RH.\n",
      "iii. Cirugía Ocular Lásik para vicios o defectos de refracción, tales como, miopía, astigmatismo, hipermetropía, y otras enfermedades oculares.\n"
     ]
    }
   ],
   "source": [
    "compressed_documents = compressor_retriever.get_relevant_documents(question)\n",
    "etl.pretty_print_docs(compressed_documents)"
   ]
  },
  {
   "cell_type": "markdown",
   "metadata": {},
   "source": [
    "Now, the documents are much more short and specific to the query.\n"
   ]
  },
  {
   "cell_type": "markdown",
   "metadata": {},
   "source": [
    "## Question Answering\n",
    "\n",
    "Now that we have our retriever, we can use it to answer questions. In this section, we will explore 3 different approaches to question answering:\n"
   ]
  },
  {
   "cell_type": "markdown",
   "metadata": {},
   "source": [
    "This is the template we will use for our question answering pipeline:\n",
    "\n",
    "```python\n",
    "\n",
    "Eres un asistente bien informado centrado en pólizas de seguro y documentos. Utilizando el contexto proporcionado de nuestra base de datos de polizas de seguros, responde a la siguiente pregunta relacionada con seguros. Asegúrate de proporcionar sólo información relevante a las pólizas de seguro y documentos y evita responder a preguntas no relacionadas con este dominio.\n",
    "\n",
    "Utiliza las siguientes piezas de contexto para responder a la pregunta al final. Si no sabes la respuesta, simplemente di que no lo sabes, no intentes inventar una respuesta. Usa un máximo de tres frases. Mantén la respuesta lo más concisa posible. ¡Siempre di \"¡gracias por preguntar!\" al final de la respuesta!\n",
    "{contexto}\n",
    "Pregunta: {pregunta}\n",
    "Respuesta útil:\"\"\"\n",
    "\n",
    "```\n"
   ]
  },
  {
   "cell_type": "markdown",
   "metadata": {},
   "source": [
    "Let's set up our LLM Agent. We will use `gp3-5-turbo` for this task.\n"
   ]
  },
  {
   "cell_type": "code",
   "execution_count": 37,
   "metadata": {},
   "outputs": [],
   "source": [
    "llm = ChatOpenAI(model_name=config.FAST_LLM_MODEL, temperature=config.TEMPERATURE)"
   ]
  },
  {
   "cell_type": "code",
   "execution_count": 38,
   "metadata": {},
   "outputs": [],
   "source": [
    "question = \"Cuales las limitaciones de la cobertura de la poliza PÓLIZA DE ACCIDENTES PERSONALES / REEMBOLSO GASTOS MÉDICOS?\""
   ]
  },
  {
   "cell_type": "code",
   "execution_count": 39,
   "metadata": {},
   "outputs": [],
   "source": [
    "template_prompt = \"\"\"\n",
    "Eres un asistente bien informado centrado en pólizas de seguro y documentos. Utilizando el contexto proporcionado de nuestra base de datos de polizas de seguros, responde a la siguiente pregunta relacionada con seguros. Asegúrate de proporcionar sólo información relevante a las pólizas de seguro y documentos y evita responder a preguntas no relacionadas con este dominio. \n",
    "\n",
    "Utiliza las siguientes piezas de contexto para responder a la pregunta al final. Si no sabes la respuesta, simplemente di que no lo sabes, no intentes inventar una respuesta. Usa un máximo de tres frases. Mantén la respuesta lo más concisa posible. ¡Siempre di \"¡gracias por preguntar!\" al final de la respuesta!\n",
    "{context}\n",
    "Pregunta: {question}\n",
    "Respuesta útil:\"\"\"\n",
    "\n",
    "QA_CHAIN_PROMPT = PromptTemplate(\n",
    "    template=template_prompt, input_variables=[\"context\", \"question\"]\n",
    ")"
   ]
  },
  {
   "cell_type": "code",
   "execution_count": 40,
   "metadata": {},
   "outputs": [],
   "source": [
    "qa_chain_mr = RetrievalQA.from_chain_type(\n",
    "    llm,\n",
    "    retriever=retriever_sqr,\n",
    "    chain_type=\"stuff\",\n",
    "    return_source_documents=True,\n",
    "    chain_type_kwargs={\"prompt\": QA_CHAIN_PROMPT},\n",
    ")"
   ]
  },
  {
   "cell_type": "code",
   "execution_count": 41,
   "metadata": {},
   "outputs": [
    {
     "name": "stdout",
     "output_type": "stream",
     "text": [
      "query='limitaciones cobertura poliza' filter=Comparison(comparator=<Comparator.EQ: 'eq'>, attribute='title', value='PÓLIZA DE ACCIDENTES PERSONALES / REEMBOLSO GASTOS MÉDICOS') limit=None\n"
     ]
    }
   ],
   "source": [
    "results = qa_chain_mr({\"query\": question})"
   ]
  },
  {
   "cell_type": "code",
   "execution_count": 42,
   "metadata": {},
   "outputs": [
    {
     "name": "stdout",
     "output_type": "stream",
     "text": [
      "Las limitaciones de cobertura de la póliza de Accidentes Personales / Reembolso Gastos Médicos incluyen: \n",
      "- En caso de que el asegurado no esté afiliado a un sistema de salud previsional, privado o estatal, la compañía calculará los gastos a ser reembolsados o pagados al Prestador y aplicará el porcentaje de reembolso o pago al prestador establecido en el Cuadro de Coberturas de las Condiciones Particulares de la Póliza.\n",
      "- En caso de que el asegurado esté afiliado a un sistema de salud previsional, privado o estatal, y las prestaciones o gastos reclamados no cuenten con bonificación, aporte y/o reembolso mayor que cero (0) pesos según el plan o contrato de salud previsional contratado, la cobertura será limitada.\n",
      "- El pago al prestador o reembolso al asegurado estará limitado por el monto definido en el Arancel del Prestador indicado en las condiciones particulares de la póliza.\n",
      "\n",
      "¡Gracias por preguntar!\n"
     ]
    }
   ],
   "source": [
    "print(results[\"result\"])"
   ]
  },
  {
   "cell_type": "markdown",
   "metadata": {},
   "source": [
    "Let's see the source of the answer.\n"
   ]
  },
  {
   "cell_type": "code",
   "execution_count": 43,
   "metadata": {},
   "outputs": [
    {
     "name": "stdout",
     "output_type": "stream",
     "text": [
      "lesiones.\n",
      "ARTÍCULO 3°: LIMITACIONES DE LAS COBERTURAS\n",
      "Sin perjuicio de los términos, porcentajes, límites y topes de reembolso que se establezcan en el Cuadro de\n",
      "Coberturas de las Condiciones Particulares de la Póliza. Ésta última contempla las siguientes limitaciones de\n",
      "cobertura:\n",
      "a) En aquellos casos en que el asegurado no esté afiliado a un sistema de salud previsional, privado o\n",
      "estatal, la compañía calculará los gastos a ser reembolsados o pagados al Prestador y sobre ellos aplicará el\n",
      "porcentaje de reembolso o pago al prestador que se indica para estos efectos en el Cuadro de Coberturas\n",
      "de las Condiciones Particulares de la Póliza.\n",
      "b) En aquellos casos en que el asegurado esté afiliado a un sistema de salud previsional, privado o estatal, y\n",
      "las prestaciones o gastos reclamados no cuenten con bonificación, aporte y/o reembolso mayor que cero (0)\n",
      "pesos en conformidad al plan o contrato de salud previsional contratado en tales instituciones, por cualquier\n",
      "-------------------\n",
      "efectos en el Cuadro de Coberturas de las Condiciones de la Póliza.\n",
      "d) En el Cuadro de Coberturas de las Condiciones Particulares de la Póliza, se podrán establecer términos,\n",
      "porcentajes, límites y topes de reembolso o pago al Prestador diferenciando por el sistema de salud\n",
      "previsional al que el asegurado se encuentre afiliado, el plan contratado, el prestador médico que originó el\n",
      "gasto, el tramo al que pertenece el beneficiario en caso de sistema de salud estatal, y/o cualquier otro\n",
      "concepto indicado en las Condiciones Particulares de la Póliza.\n",
      "e) El pago al prestador o reembolso al asegurado, tendrá como límite para todas las prestaciones cubiertas\n",
      "por esta póliza el monto definido en el Arancel del Prestador, que se indique en las condiciones particulares.\n",
      "f) La cobertura será solamente mientras el asegurado se encuentre dentro del territorio nacional.\n",
      "Con todo, la Compañía Aseguradora no reembolsará al Asegurado ni pagará al Prestador, más allá del gasto\n"
     ]
    }
   ],
   "source": [
    "print(results[\"source_documents\"][0].page_content)\n",
    "print(\"-------------------\")\n",
    "print(results[\"source_documents\"][1].page_content)"
   ]
  },
  {
   "cell_type": "markdown",
   "metadata": {},
   "source": [
    "### RetrievalQA limitations\n",
    "\n",
    "QA fails to preserve conversational history. This means that if we ask a follow-up question, the answer will be based on the original question, not the follow-up question. This is because the QA model is not aware of the previous question and answer. We need to implement memory to address this issue.\n"
   ]
  },
  {
   "cell_type": "markdown",
   "metadata": {},
   "source": [
    "## Addressing Conversational Memory\n",
    "\n",
    "In order to address the conversational memory issue, we will use a memory module that will store the previous questions and answers. This will allow us to use the previous question and answer as context for the next question. For this, we will be using `ConversationalBufferMemory` from `langchain.memory`.\n"
   ]
  },
  {
   "cell_type": "code",
   "execution_count": 44,
   "metadata": {},
   "outputs": [],
   "source": [
    "memory_key = \"chat_history\"\n",
    "\n",
    "memory = ConversationBufferMemory(\n",
    "    memory_key=memory_key,\n",
    "    return_messages=True,\n",
    "    output_key=\"answer\",\n",
    "    input_key=\"question\",\n",
    ")"
   ]
  },
  {
   "cell_type": "markdown",
   "metadata": {},
   "source": [
    "Now we need to make our retriever work together with our memory. For this we need to use `ConversationalRetrievalChain` in where we pass our language model, our retriever, and our memory. The conversational retriever adds a new bit on top of the retrieval QA Chain, not just memory.\n",
    "\n",
    "Specifically, what it adds it's a step that takes the history and the new question and condenses it into a stand-alone question to pass to the vector store to look up for relevant documents.\n",
    "\n",
    "We need to redo our prompt to support memory.\n"
   ]
  },
  {
   "cell_type": "code",
   "execution_count": 45,
   "metadata": {},
   "outputs": [],
   "source": [
    "template_prompt_with_memory = \"\"\"\n",
    "Eres un asistente bien informado centrado en pólizas de seguro y documentos. Utilizando el contexto proporcionado de nuestra base de datos de polizas de seguros, responde a la siguiente pregunta relacionada con seguros. Asegúrate de proporcionar sólo información relevante a las pólizas de seguro y documentos y evita responder a preguntas no relacionadas con este dominio. \n",
    "\n",
    "Dado el siguiente historial de conversación:\n",
    "\n",
    "{chat_history}\n",
    "\n",
    "Utiliza las siguientes piezas de contexto e historial para responder a la pregunta al final. Si no sabes la respuesta, simplemente di que no lo sabes, no intentes inventar una respuesta. Usa un máximo de tres frases. Mantén la respuesta lo más concisa posible. ¡Siempre di \"¡gracias por preguntar!\" al final de la respuesta!\n",
    "{context}\n",
    "Pregunta: {question}\n",
    "Respuesta útil:\"\"\"\n",
    "\n",
    "TEMPLATE_PROMPT_WITH_MEMORY = PromptTemplate(\n",
    "    template=template_prompt_with_memory,\n",
    "    input_variables=[\"context\", \"question\", \"chat_history\"],\n",
    ")"
   ]
  },
  {
   "cell_type": "code",
   "execution_count": 46,
   "metadata": {},
   "outputs": [],
   "source": [
    "qa = ConversationalRetrievalChain.from_llm(\n",
    "    llm,\n",
    "    retriever=retriever_sqr,\n",
    "    chain_type=\"stuff\",\n",
    "    memory=memory,\n",
    "    get_chat_history=lambda h: h,\n",
    "    verbose=True,\n",
    "    combine_docs_chain_kwargs={\"prompt\": TEMPLATE_PROMPT_WITH_MEMORY},\n",
    ")"
   ]
  },
  {
   "cell_type": "code",
   "execution_count": 47,
   "metadata": {},
   "outputs": [
    {
     "name": "stdout",
     "output_type": "stream",
     "text": [
      "query='limitaciones cobertura poliza' filter=Comparison(comparator=<Comparator.EQ: 'eq'>, attribute='title', value='PÓLIZA DE ACCIDENTES PERSONALES / REEMBOLSO GASTOS MÉDICOS') limit=None\n",
      "\n",
      "\n",
      "\u001b[1m> Entering new StuffDocumentsChain chain...\u001b[0m\n",
      "\n",
      "\n",
      "\u001b[1m> Entering new LLMChain chain...\u001b[0m\n",
      "Prompt after formatting:\n",
      "\u001b[32;1m\u001b[1;3m\n",
      "Eres un asistente bien informado centrado en pólizas de seguro y documentos. Utilizando el contexto proporcionado de nuestra base de datos de polizas de seguros, responde a la siguiente pregunta relacionada con seguros. Asegúrate de proporcionar sólo información relevante a las pólizas de seguro y documentos y evita responder a preguntas no relacionadas con este dominio. \n",
      "\n",
      "Dado el siguiente historial de conversación:\n",
      "\n",
      "[]\n",
      "\n",
      "Utiliza las siguientes piezas de contexto e historial para responder a la pregunta al final. Si no sabes la respuesta, simplemente di que no lo sabes, no intentes inventar una respuesta. Usa un máximo de tres frases. Mantén la respuesta lo más concisa posible. ¡Siempre di \"¡gracias por preguntar!\" al final de la respuesta!\n",
      "lesiones.\n",
      "ARTÍCULO 3°: LIMITACIONES DE LAS COBERTURAS\n",
      "Sin perjuicio de los términos, porcentajes, límites y topes de reembolso que se establezcan en el Cuadro de\n",
      "Coberturas de las Condiciones Particulares de la Póliza. Ésta última contempla las siguientes limitaciones de\n",
      "cobertura:\n",
      "a) En aquellos casos en que el asegurado no esté afiliado a un sistema de salud previsional, privado o\n",
      "estatal, la compañía calculará los gastos a ser reembolsados o pagados al Prestador y sobre ellos aplicará el\n",
      "porcentaje de reembolso o pago al prestador que se indica para estos efectos en el Cuadro de Coberturas\n",
      "de las Condiciones Particulares de la Póliza.\n",
      "b) En aquellos casos en que el asegurado esté afiliado a un sistema de salud previsional, privado o estatal, y\n",
      "las prestaciones o gastos reclamados no cuenten con bonificación, aporte y/o reembolso mayor que cero (0)\n",
      "pesos en conformidad al plan o contrato de salud previsional contratado en tales instituciones, por cualquier\n",
      "\n",
      "efectos en el Cuadro de Coberturas de las Condiciones de la Póliza.\n",
      "d) En el Cuadro de Coberturas de las Condiciones Particulares de la Póliza, se podrán establecer términos,\n",
      "porcentajes, límites y topes de reembolso o pago al Prestador diferenciando por el sistema de salud\n",
      "previsional al que el asegurado se encuentre afiliado, el plan contratado, el prestador médico que originó el\n",
      "gasto, el tramo al que pertenece el beneficiario en caso de sistema de salud estatal, y/o cualquier otro\n",
      "concepto indicado en las Condiciones Particulares de la Póliza.\n",
      "e) El pago al prestador o reembolso al asegurado, tendrá como límite para todas las prestaciones cubiertas\n",
      "por esta póliza el monto definido en el Arancel del Prestador, que se indique en las condiciones particulares.\n",
      "f) La cobertura será solamente mientras el asegurado se encuentre dentro del territorio nacional.\n",
      "Con todo, la Compañía Aseguradora no reembolsará al Asegurado ni pagará al Prestador, más allá del gasto\n",
      "\n",
      "reembolsados cuando ellos provengan o se originen por, o sean consecuencia de, o correspondan a\n",
      "complicaciones de:\n",
      "a) Lesiones o dolencias o situación de salud preexistentes. En las Condiciones Particulares de la Póliza, se\n",
      "deberá dejar constancia de las lesiones, dolencias o situaciones de salud preexistentes declaradas por el\n",
      "Asegurado, las que no serán cubiertas. Sin perjuicio de lo anterior, la Compañía podrá indicar en las\n",
      "Condiciones Particulares las condiciones en que le otorgará cobertura, debiendo en tal caso el Asegurable,\n",
      "entregar su consentimiento a las mismas mediante declaración especial firmada por él, la cual formará parte\n",
      "integrante de la Póliza.\n",
      "b) Tratamientos médicos quirúrgicos distintos de los necesarios a consecuencia de lesiones cubiertas por\n",
      "esta póliza.\n",
      "c) Catástrofes Naturales\n",
      "d) Cirugías y/o tratamientos estéticos, cosméticos, plásticos, reparadores, maxilofaciales, ortopédicos y otros\n",
      "\n",
      "30. Propuesta de Seguros: La oferta escrita de contratar el seguro, formulada al asegurador por el\n",
      "contratante, o por un tercero a su nombre.\n",
      "31. Prótesis: Es un dispositivo diseñado para reemplazar una parte faltante del cuerpo o para hacer que una\n",
      "parte del cuerpo trabaje mejor.\n",
      "32. Riesgo Vital: Toda condición clínica que implique riesgo de muerte o de secuela funcional grave, que\n",
      "requiera atención de urgencia de manera inmediata e impostergable, y que corresponda a un Evento\n",
      "cubierto por esta Póliza, diagnosticado por un médico y conformado con evidencia clínica, radiológica,\n",
      "histológica y de laboratorio.\n",
      "ARTÍCULO 5º: EXCLUSIONES\n",
      "La cobertura otorgada en virtud de esta Póliza no cubre los gastos médicos que no tengan como causa un\n",
      "Evento\n",
      "Asimismo, la cobertura otorgada en virtud de esta Póliza no cubre los gastos susceptibles de ser\n",
      "reembolsados cuando ellos provengan o se originen por, o sean consecuencia de, o correspondan a\n",
      "complicaciones de:\n",
      "Pregunta: Cuales las limitaciones de la cobertura de la poliza PÓLIZA DE ACCIDENTES PERSONALES / REEMBOLSO GASTOS MÉDICOS?\n",
      "Respuesta útil:\u001b[0m\n",
      "\n",
      "\u001b[1m> Finished chain.\u001b[0m\n",
      "\n",
      "\u001b[1m> Finished chain.\u001b[0m\n"
     ]
    }
   ],
   "source": [
    "question = \"Cuales las limitaciones de la cobertura de la poliza PÓLIZA DE ACCIDENTES PERSONALES / REEMBOLSO GASTOS MÉDICOS?\"\n",
    "\n",
    "result = qa({\"question\": question})"
   ]
  },
  {
   "cell_type": "code",
   "execution_count": 48,
   "metadata": {},
   "outputs": [
    {
     "name": "stdout",
     "output_type": "stream",
     "text": [
      "Las limitaciones de cobertura de la póliza de Accidentes Personales / Reembolso Gastos Médicos incluyen: \n",
      "- No cubre gastos médicos que no tengan como causa un evento.\n",
      "- No cubre gastos que provengan, se originen o sean consecuencia de complicaciones de lesiones preexistentes, tratamientos médicos quirúrgicos distintos a los necesarios por lesiones cubiertas, catástrofes naturales y cirugías o tratamientos estéticos, cosméticos, plásticos, reparadores, maxilofaciales, ortopédicos y otros. \n",
      "¡Gracias por preguntar!\n"
     ]
    }
   ],
   "source": [
    "print(result[\"answer\"])"
   ]
  },
  {
   "cell_type": "code",
   "execution_count": 49,
   "metadata": {},
   "outputs": [
    {
     "name": "stdout",
     "output_type": "stream",
     "text": [
      "\n",
      "\n",
      "\u001b[1m> Entering new LLMChain chain...\u001b[0m\n",
      "Prompt after formatting:\n",
      "\u001b[32;1m\u001b[1;3mGiven the following conversation and a follow up question, rephrase the follow up question to be a standalone question, in its original language.\n",
      "\n",
      "Chat History:\n",
      "[HumanMessage(content='Cuales las limitaciones de la cobertura de la poliza PÓLIZA DE ACCIDENTES PERSONALES / REEMBOLSO GASTOS MÉDICOS?', additional_kwargs={}, example=False), AIMessage(content='Las limitaciones de cobertura de la póliza de Accidentes Personales / Reembolso Gastos Médicos incluyen: \\n- No cubre gastos médicos que no tengan como causa un evento.\\n- No cubre gastos que provengan, se originen o sean consecuencia de complicaciones de lesiones preexistentes, tratamientos médicos quirúrgicos distintos a los necesarios por lesiones cubiertas, catástrofes naturales y cirugías o tratamientos estéticos, cosméticos, plásticos, reparadores, maxilofaciales, ortopédicos y otros. \\n¡Gracias por preguntar!', additional_kwargs={}, example=False)]\n",
      "Follow Up Input: que tipo de gastos medicos has dicho que no cubre?\n",
      "Standalone question:\u001b[0m\n"
     ]
    },
    {
     "name": "stdout",
     "output_type": "stream",
     "text": [
      "\n",
      "\u001b[1m> Finished chain.\u001b[0m\n",
      "query='gastos médicos no cubre' filter=None limit=None\n",
      "\n",
      "\n",
      "\u001b[1m> Entering new StuffDocumentsChain chain...\u001b[0m\n",
      "\n",
      "\n",
      "\u001b[1m> Entering new LLMChain chain...\u001b[0m\n",
      "Prompt after formatting:\n",
      "\u001b[32;1m\u001b[1;3m\n",
      "Eres un asistente bien informado centrado en pólizas de seguro y documentos. Utilizando el contexto proporcionado de nuestra base de datos de polizas de seguros, responde a la siguiente pregunta relacionada con seguros. Asegúrate de proporcionar sólo información relevante a las pólizas de seguro y documentos y evita responder a preguntas no relacionadas con este dominio. \n",
      "\n",
      "Dado el siguiente historial de conversación:\n",
      "\n",
      "[HumanMessage(content='Cuales las limitaciones de la cobertura de la poliza PÓLIZA DE ACCIDENTES PERSONALES / REEMBOLSO GASTOS MÉDICOS?', additional_kwargs={}, example=False), AIMessage(content='Las limitaciones de cobertura de la póliza de Accidentes Personales / Reembolso Gastos Médicos incluyen: \\n- No cubre gastos médicos que no tengan como causa un evento.\\n- No cubre gastos que provengan, se originen o sean consecuencia de complicaciones de lesiones preexistentes, tratamientos médicos quirúrgicos distintos a los necesarios por lesiones cubiertas, catástrofes naturales y cirugías o tratamientos estéticos, cosméticos, plásticos, reparadores, maxilofaciales, ortopédicos y otros. \\n¡Gracias por preguntar!', additional_kwargs={}, example=False)]\n",
      "\n",
      "Utiliza las siguientes piezas de contexto e historial para responder a la pregunta al final. Si no sabes la respuesta, simplemente di que no lo sabes, no intentes inventar una respuesta. Usa un máximo de tres frases. Mantén la respuesta lo más concisa posible. ¡Siempre di \"¡gracias por preguntar!\" al final de la respuesta!\n",
      "recibido.\n",
      "\n",
      "24) Gastos relacionados con tratamientos no cubiertos: El tratamiento de cualquier lesión, enfermedad o\n",
      "padecimiento, o cualquier gasto que resulte de cualquier tratamiento, servicio o suministro:\n",
      "\n",
      "que no sea médicamente necesario, o para un asegurado que no se encuentre bajo los cuidados de un\n",
      "médico, doctor o profesional acreditado, o que no sea autorizado o recetado por un médico o doctor, o que\n",
      "está relacionado con el cuidado asistencial, excepto cuando se especifique cobertura en la Tabla de\n",
      "Beneficios, o que se lleva a cabo en un hospital, pero para el cual no es médicamente necesario el uso de\n",
      "instalaciones hospitalarias. Además de las exclusiones generales de la póliza, está también excluido de\n",
      "cobertura cualquier tratamiento o servicio médico para el área, órgano y/o sistema específicamente indicado\n",
      "como exclusión particular en el inciso 8 &ldquo;Preexistencias declaradas y condiciones especiales&rdquo;\n",
      "del Condicionado Particular.\n",
      "\n",
      "gastos médicos que se generen por un tratamiento médico, tales como honorarios médicos y quirúrgicos,\n",
      "\n",
      "hospitalarios o aquellos derivados de cualquier otro tipo de gasto cubierto bajo la póliza, el cual será\n",
      "\n",
      "determinado de acuerdo con los aranceles que el Asegurador tiene convenidos con los hospitales y/o\n",
      "\n",
      "proveedores, de acuerdo con el área geográfica donde se realice el tratamiento.\n",
      "\n",
      "ARTÍCULO 4º: EXCLUSIONES\n",
      "\n",
      "Esta póliza no cubre los gastos médicos definidos en esta póliza cuando ellos provengan o se originen por, o\n",
      "sean consecuencia de, o correspondan a complicaciones de:\n",
      "\n",
      "1) Enfermedades, dolencias o situaciones de salud diagnosticadas o conocidas por el asegurado o por quien\n",
      "contrata a su favor al momento de contratar la póliza.\n",
      "\n",
      "2) Enfermedades o padecimientos y tratamientos excluidos.\n",
      "\n",
      "3) Gastos adicionales o incrementados que resulten de enfermedades o padecimientos y tratamientos\n",
      "excluidos.\n",
      "\n",
      "LIMITACIONES DE LAS COBERTURAS:\n",
      "\n",
      "Sin perjuicio de los porcentajes y límites de reembolso o pago que puedan establecerse en las condiciones\n",
      "particulares, la presente póliza contempla las siguientes limitaciones de cobertura:\n",
      "\n",
      "1. En aquellos casos en que el asegurado no esté afiliado a un sistema de salud previsional, privado o\n",
      "estatal, se considerará como gasto efectivamente incurrido el monto que resulte de la aplicación del\n",
      "porcentaje que se señala en las Condiciones Particulares de la póliza sobre el gasto médico reclamado.\n",
      "Sobre el monto resultante se aplicarán los porcentajes y límites de reembolso o pago definidos para cada\n",
      "cobertura en el Cuadro de Beneficios de las Condiciones Particulares de la póliza.\n",
      "\n",
      "LIMITACIONES DE LAS COBERTURAS:\n",
      "\n",
      "Sin perjuicio de los porcentajes y límites de reembolso o pago que puedan establecerse en las condiciones\n",
      "particulares, la presente póliza contempla las siguientes limitaciones de cobertura:\n",
      "\n",
      "1. En aquellos casos en que el asegurado no esté afiliado a un sistema de salud previsional, privado o\n",
      "estatal, se considerará como gasto efectivamente incurrido el monto que resulte de la aplicación del\n",
      "porcentaje que se señala en las Condiciones Particulares de la póliza sobre el gasto médico reclamado.\n",
      "Sobre el monto resultante se aplicarán los porcentajes y límites de reembolso o pago definidos para cada\n",
      "cobertura en el Cuadro de Beneficios de las Condiciones Particulares de la póliza.\n",
      "Pregunta: ¿Qué tipo de gastos médicos has mencionado que no cubre?\n",
      "Respuesta útil:\u001b[0m\n",
      "\n",
      "\u001b[1m> Finished chain.\u001b[0m\n",
      "\n",
      "\u001b[1m> Finished chain.\u001b[0m\n"
     ]
    }
   ],
   "source": [
    "question = \"que tipo de gastos medicos has dicho que no cubre?\"\n",
    "result = qa({\"question\": question})"
   ]
  },
  {
   "cell_type": "code",
   "execution_count": 50,
   "metadata": {},
   "outputs": [
    {
     "name": "stdout",
     "output_type": "stream",
     "text": [
      "Las limitaciones de cobertura de la póliza de Accidentes Personales / Reembolso Gastos Médicos incluyen gastos médicos que no tengan como causa un evento, gastos que provengan de complicaciones de lesiones preexistentes, tratamientos médicos quirúrgicos distintos a los necesarios por lesiones cubiertas, catástrofes naturales y cirugías o tratamientos estéticos, cosméticos, plásticos, reparadores, maxilofaciales, ortopédicos y otros. ¡Gracias por preguntar!\n"
     ]
    }
   ],
   "source": [
    "print(result[\"answer\"])"
   ]
  },
  {
   "cell_type": "code",
   "execution_count": 51,
   "metadata": {},
   "outputs": [
    {
     "name": "stdout",
     "output_type": "stream",
     "text": [
      "\n",
      "\n",
      "\u001b[1m> Entering new LLMChain chain...\u001b[0m\n",
      "Prompt after formatting:\n",
      "\u001b[32;1m\u001b[1;3mGiven the following conversation and a follow up question, rephrase the follow up question to be a standalone question, in its original language.\n",
      "\n",
      "Chat History:\n",
      "[HumanMessage(content='Cuales las limitaciones de la cobertura de la poliza PÓLIZA DE ACCIDENTES PERSONALES / REEMBOLSO GASTOS MÉDICOS?', additional_kwargs={}, example=False), AIMessage(content='Las limitaciones de cobertura de la póliza de Accidentes Personales / Reembolso Gastos Médicos incluyen: \\n- No cubre gastos médicos que no tengan como causa un evento.\\n- No cubre gastos que provengan, se originen o sean consecuencia de complicaciones de lesiones preexistentes, tratamientos médicos quirúrgicos distintos a los necesarios por lesiones cubiertas, catástrofes naturales y cirugías o tratamientos estéticos, cosméticos, plásticos, reparadores, maxilofaciales, ortopédicos y otros. \\n¡Gracias por preguntar!', additional_kwargs={}, example=False), HumanMessage(content='que tipo de gastos medicos has dicho que no cubre?', additional_kwargs={}, example=False), AIMessage(content='Las limitaciones de cobertura de la póliza de Accidentes Personales / Reembolso Gastos Médicos incluyen gastos médicos que no tengan como causa un evento, gastos que provengan de complicaciones de lesiones preexistentes, tratamientos médicos quirúrgicos distintos a los necesarios por lesiones cubiertas, catástrofes naturales y cirugías o tratamientos estéticos, cosméticos, plásticos, reparadores, maxilofaciales, ortopédicos y otros. ¡Gracias por preguntar!', additional_kwargs={}, example=False)]\n",
      "Follow Up Input: dame un resumen de la cobertura del SEGURO PARA PRESTACIONES MÉDICAS DE ALTO COSTO\n",
      "Standalone question:\u001b[0m\n"
     ]
    },
    {
     "name": "stdout",
     "output_type": "stream",
     "text": [
      "\n",
      "\u001b[1m> Finished chain.\u001b[0m\n",
      "query='SEGURO PARA PRESTACIONES MÉDICAS DE ALTO COSTO' filter=None limit=None\n",
      "\n",
      "\n",
      "\u001b[1m> Entering new StuffDocumentsChain chain...\u001b[0m\n",
      "\n",
      "\n",
      "\u001b[1m> Entering new LLMChain chain...\u001b[0m\n",
      "Prompt after formatting:\n",
      "\u001b[32;1m\u001b[1;3m\n",
      "Eres un asistente bien informado centrado en pólizas de seguro y documentos. Utilizando el contexto proporcionado de nuestra base de datos de polizas de seguros, responde a la siguiente pregunta relacionada con seguros. Asegúrate de proporcionar sólo información relevante a las pólizas de seguro y documentos y evita responder a preguntas no relacionadas con este dominio. \n",
      "\n",
      "Dado el siguiente historial de conversación:\n",
      "\n",
      "[HumanMessage(content='Cuales las limitaciones de la cobertura de la poliza PÓLIZA DE ACCIDENTES PERSONALES / REEMBOLSO GASTOS MÉDICOS?', additional_kwargs={}, example=False), AIMessage(content='Las limitaciones de cobertura de la póliza de Accidentes Personales / Reembolso Gastos Médicos incluyen: \\n- No cubre gastos médicos que no tengan como causa un evento.\\n- No cubre gastos que provengan, se originen o sean consecuencia de complicaciones de lesiones preexistentes, tratamientos médicos quirúrgicos distintos a los necesarios por lesiones cubiertas, catástrofes naturales y cirugías o tratamientos estéticos, cosméticos, plásticos, reparadores, maxilofaciales, ortopédicos y otros. \\n¡Gracias por preguntar!', additional_kwargs={}, example=False), HumanMessage(content='que tipo de gastos medicos has dicho que no cubre?', additional_kwargs={}, example=False), AIMessage(content='Las limitaciones de cobertura de la póliza de Accidentes Personales / Reembolso Gastos Médicos incluyen gastos médicos que no tengan como causa un evento, gastos que provengan de complicaciones de lesiones preexistentes, tratamientos médicos quirúrgicos distintos a los necesarios por lesiones cubiertas, catástrofes naturales y cirugías o tratamientos estéticos, cosméticos, plásticos, reparadores, maxilofaciales, ortopédicos y otros. ¡Gracias por preguntar!', additional_kwargs={}, example=False)]\n",
      "\n",
      "Utiliza las siguientes piezas de contexto e historial para responder a la pregunta al final. Si no sabes la respuesta, simplemente di que no lo sabes, no intentes inventar una respuesta. Usa un máximo de tres frases. Mantén la respuesta lo más concisa posible. ¡Siempre di \"¡gracias por preguntar!\" al final de la respuesta!\n",
      "SEGURO PARA PRESTACIONES MÉDICAS DE ALTO COSTO\n",
      "Incorporada al Depósito de Pólizas bajo el código POL320190074\n",
      "\n",
      "SEGURO PARA PRESTACIONES MÉDICAS DE ALTO COSTO\n",
      "Incorporada al Depósito de Pólizas bajo el código POL320210210\n",
      "ARTICULO 1°: REGLAS APLICABLES AL CONTRATO\n",
      "Se aplicarán al presente contrato de seguro las disposiciones contenidas en los artículos siguientes y las\n",
      "normas legales de carácter imperativo establecidas en el Título VIII, del Libro II, del Código de Comercio. Sin\n",
      "embargo, se entenderán válidas las estipulaciones contractuales que sean más beneficiosas para el\n",
      "asegurado o beneficiario.\n",
      "\n",
      "ARTÍCULO 2º: COBERTURA Y MATERIA ASEGURADA\n",
      "\n",
      "La Compañía Aseguradora reembolsará al asegurado o pagará directamente al prestador de salud los\n",
      "Gastos Médicos Razonables y Acostumbrados y Efectivamente Incurridos, una vez otorgada y pagada la\n",
      "cobertura del sistema de salud previsional, seguros complementarios u otros beneficios contratados por el\n",
      "asegurado. Lo anterior, cuando al asegurado se le diagnostique por primera vez una Enfermedad o le ocurra\n",
      "un Accidente durante la vigencia de esta póliza que demande su internación hospitalaria y cuando este gasto\n",
      "se realice en él o los prestadores de salud que el asegurador determine, durante el Período de Duración del\n",
      "Reembolso que se establezca en las Condiciones Particulares de la Póliza, que se contará desde la fecha\n",
      "de ocurrencia del Evento y que sean originados por éste. Las definiciones de estos conceptos se encuentran\n",
      "contenidos en el artículo 4º de estas Condiciones Generales.\n",
      "\n",
      "La Compañía Aseguradora reembolsará al Asegurado o pagará al Prestador los Gastos Médicos\n",
      "Razonables y Acostumbrados, efectivamente incurridos por el Asegurado, respecto del Evento, como\n",
      "complemento de lo que le cubra el sistema previsional o de salud al que se encuentre afiliado o adherido,\n",
      "tales como: Isapres, Fonasa, Cajas de Previsión, Departamentos o Servicios de Bienestar, el Seguro\n",
      "Obligatorio de Accidentes Personales establecido en la Ley Nº 18.490, las Cajas de Compensación de\n",
      "Asignación Familiar y otros Seguros de Salud contratados en favor del Asegurado por otras instituciones,\n",
      "públicas o privadas.\n",
      "Pregunta: ¿Cuál es el resumen de la cobertura del SEGURO PARA PRESTACIONES MÉDICAS DE ALTO COSTO?\n",
      "Respuesta útil:\u001b[0m\n",
      "\n",
      "\u001b[1m> Finished chain.\u001b[0m\n",
      "\n",
      "\u001b[1m> Finished chain.\u001b[0m\n"
     ]
    }
   ],
   "source": [
    "question = (\n",
    "    \"dame un resumen de la cobertura del SEGURO PARA PRESTACIONES MÉDICAS DE ALTO COSTO\"\n",
    ")\n",
    "result = qa({\"question\": question})"
   ]
  },
  {
   "cell_type": "code",
   "execution_count": 52,
   "metadata": {},
   "outputs": [
    {
     "name": "stdout",
     "output_type": "stream",
     "text": [
      "El SEGURO PARA PRESTACIONES MÉDICAS DE ALTO COSTO cubre los Gastos Médicos Razonables y Acostumbrados y Efectivamente Incurridos una vez otorgada y pagada la cobertura del sistema de salud previsional, seguros complementarios u otros beneficios contratados por el asegurado. Esto incluye enfermedades diagnosticadas por primera vez, accidentes que requieran internación hospitalaria y gastos médicos complementarios a los cubiertos por otros sistemas de salud. ¡Gracias por preguntar!\n"
     ]
    }
   ],
   "source": [
    "print(result[\"answer\"])"
   ]
  },
  {
   "cell_type": "code",
   "execution_count": 53,
   "metadata": {},
   "outputs": [
    {
     "name": "stdout",
     "output_type": "stream",
     "text": [
      "\n",
      "\n",
      "\u001b[1m> Entering new LLMChain chain...\u001b[0m\n",
      "Prompt after formatting:\n",
      "\u001b[32;1m\u001b[1;3mGiven the following conversation and a follow up question, rephrase the follow up question to be a standalone question, in its original language.\n",
      "\n",
      "Chat History:\n",
      "[HumanMessage(content='Cuales las limitaciones de la cobertura de la poliza PÓLIZA DE ACCIDENTES PERSONALES / REEMBOLSO GASTOS MÉDICOS?', additional_kwargs={}, example=False), AIMessage(content='Las limitaciones de cobertura de la póliza de Accidentes Personales / Reembolso Gastos Médicos incluyen: \\n- No cubre gastos médicos que no tengan como causa un evento.\\n- No cubre gastos que provengan, se originen o sean consecuencia de complicaciones de lesiones preexistentes, tratamientos médicos quirúrgicos distintos a los necesarios por lesiones cubiertas, catástrofes naturales y cirugías o tratamientos estéticos, cosméticos, plásticos, reparadores, maxilofaciales, ortopédicos y otros. \\n¡Gracias por preguntar!', additional_kwargs={}, example=False), HumanMessage(content='que tipo de gastos medicos has dicho que no cubre?', additional_kwargs={}, example=False), AIMessage(content='Las limitaciones de cobertura de la póliza de Accidentes Personales / Reembolso Gastos Médicos incluyen gastos médicos que no tengan como causa un evento, gastos que provengan de complicaciones de lesiones preexistentes, tratamientos médicos quirúrgicos distintos a los necesarios por lesiones cubiertas, catástrofes naturales y cirugías o tratamientos estéticos, cosméticos, plásticos, reparadores, maxilofaciales, ortopédicos y otros. ¡Gracias por preguntar!', additional_kwargs={}, example=False), HumanMessage(content='dame un resumen de la cobertura del SEGURO PARA PRESTACIONES MÉDICAS DE ALTO COSTO', additional_kwargs={}, example=False), AIMessage(content='El SEGURO PARA PRESTACIONES MÉDICAS DE ALTO COSTO cubre los Gastos Médicos Razonables y Acostumbrados y Efectivamente Incurridos una vez otorgada y pagada la cobertura del sistema de salud previsional, seguros complementarios u otros beneficios contratados por el asegurado. Esto incluye enfermedades diagnosticadas por primera vez, accidentes que requieran internación hospitalaria y gastos médicos complementarios a los cubiertos por otros sistemas de salud. ¡Gracias por preguntar!', additional_kwargs={}, example=False)]\n",
      "Follow Up Input: osea que el seguro para prestaciones medicas de alto costo cubre gastos medicos una vez otorgada y pagada la cobertura del sistema de salud?\n",
      "Standalone question:\u001b[0m\n"
     ]
    },
    {
     "name": "stdout",
     "output_type": "stream",
     "text": [
      "\n",
      "\u001b[1m> Finished chain.\u001b[0m\n",
      "query='prestaciones médicas de alto costo gastos médicos cobertura sistema salud' filter=None limit=None\n",
      "\n",
      "\n",
      "\u001b[1m> Entering new StuffDocumentsChain chain...\u001b[0m\n",
      "\n",
      "\n",
      "\u001b[1m> Entering new LLMChain chain...\u001b[0m\n",
      "Prompt after formatting:\n",
      "\u001b[32;1m\u001b[1;3m\n",
      "Eres un asistente bien informado centrado en pólizas de seguro y documentos. Utilizando el contexto proporcionado de nuestra base de datos de polizas de seguros, responde a la siguiente pregunta relacionada con seguros. Asegúrate de proporcionar sólo información relevante a las pólizas de seguro y documentos y evita responder a preguntas no relacionadas con este dominio. \n",
      "\n",
      "Dado el siguiente historial de conversación:\n",
      "\n",
      "[HumanMessage(content='Cuales las limitaciones de la cobertura de la poliza PÓLIZA DE ACCIDENTES PERSONALES / REEMBOLSO GASTOS MÉDICOS?', additional_kwargs={}, example=False), AIMessage(content='Las limitaciones de cobertura de la póliza de Accidentes Personales / Reembolso Gastos Médicos incluyen: \\n- No cubre gastos médicos que no tengan como causa un evento.\\n- No cubre gastos que provengan, se originen o sean consecuencia de complicaciones de lesiones preexistentes, tratamientos médicos quirúrgicos distintos a los necesarios por lesiones cubiertas, catástrofes naturales y cirugías o tratamientos estéticos, cosméticos, plásticos, reparadores, maxilofaciales, ortopédicos y otros. \\n¡Gracias por preguntar!', additional_kwargs={}, example=False), HumanMessage(content='que tipo de gastos medicos has dicho que no cubre?', additional_kwargs={}, example=False), AIMessage(content='Las limitaciones de cobertura de la póliza de Accidentes Personales / Reembolso Gastos Médicos incluyen gastos médicos que no tengan como causa un evento, gastos que provengan de complicaciones de lesiones preexistentes, tratamientos médicos quirúrgicos distintos a los necesarios por lesiones cubiertas, catástrofes naturales y cirugías o tratamientos estéticos, cosméticos, plásticos, reparadores, maxilofaciales, ortopédicos y otros. ¡Gracias por preguntar!', additional_kwargs={}, example=False), HumanMessage(content='dame un resumen de la cobertura del SEGURO PARA PRESTACIONES MÉDICAS DE ALTO COSTO', additional_kwargs={}, example=False), AIMessage(content='El SEGURO PARA PRESTACIONES MÉDICAS DE ALTO COSTO cubre los Gastos Médicos Razonables y Acostumbrados y Efectivamente Incurridos una vez otorgada y pagada la cobertura del sistema de salud previsional, seguros complementarios u otros beneficios contratados por el asegurado. Esto incluye enfermedades diagnosticadas por primera vez, accidentes que requieran internación hospitalaria y gastos médicos complementarios a los cubiertos por otros sistemas de salud. ¡Gracias por preguntar!', additional_kwargs={}, example=False)]\n",
      "\n",
      "Utiliza las siguientes piezas de contexto e historial para responder a la pregunta al final. Si no sabes la respuesta, simplemente di que no lo sabes, no intentes inventar una respuesta. Usa un máximo de tres frases. Mantén la respuesta lo más concisa posible. ¡Siempre di \"¡gracias por preguntar!\" al final de la respuesta!\n",
      "SEGURO PARA PRESTACIONES MÉDICAS DE ALTO COSTO\n",
      "Incorporada al Depósito de Pólizas bajo el código POL320190074\n",
      "\n",
      "Máximo de Gastos Reembolsables por asegurado y de acuerdo a los términos, porcentajes, límites y topes\n",
      "de reembolso por gasto o por asegurado; límites y topes de montos en dinero por atención o prestación;\n",
      "límites y topes según sea el porcentaje de bonificación o reembolso entregado por el sistema de salud\n",
      "previsional privado o estatal al que se encuentre afiliado o adherido el Asegurado; límites y topes por\n",
      "patologías y rangos etarios; establecido para cada Gasto incluido en las coberturas contratadas y/o para\n",
      "cada cobertura contratada, todo lo que se detalla en el Cuadro de Coberturas de las Condiciones\n",
      "Particulares de la Póliza.\n",
      "La Compañía Aseguradora reembolsará al Asegurado o pagará al Prestador los Gastos Médicos\n",
      "Razonables y Acostumbrados, efectivamente incurridos por el Asegurado, respecto del Accidente, como\n",
      "complemento de lo que le cubra el sistema previsional o de salud al que se encuentre afiliado o adherido,\n",
      "\n",
      "LIMITACIONES DE LAS COBERTURAS:\n",
      "\n",
      "Sin perjuicio de los porcentajes y límites de reembolso o pago que puedan establecerse en las condiciones\n",
      "particulares, la presente póliza contempla las siguientes limitaciones de cobertura:\n",
      "\n",
      "1. En aquellos casos en que el asegurado no esté afiliado a un sistema de salud previsional, privado o\n",
      "estatal, se considerará como gasto efectivamente incurrido el monto que resulte de la aplicación del\n",
      "porcentaje que se señala en las Condiciones Particulares de la póliza sobre el gasto médico reclamado.\n",
      "Sobre el monto resultante se aplicarán los porcentajes y límites de reembolso o pago definidos para cada\n",
      "cobertura en el Cuadro de Beneficios de las Condiciones Particulares de la póliza.\n",
      "\n",
      "LIMITACIONES DE LAS COBERTURAS:\n",
      "\n",
      "Sin perjuicio de los porcentajes y límites de reembolso o pago que puedan establecerse en las condiciones\n",
      "particulares, la presente póliza contempla las siguientes limitaciones de cobertura:\n",
      "\n",
      "1. En aquellos casos en que el asegurado no esté afiliado a un sistema de salud previsional, privado o\n",
      "estatal, se considerará como gasto efectivamente incurrido el monto que resulte de la aplicación del\n",
      "porcentaje que se señala en las Condiciones Particulares de la póliza sobre el gasto médico reclamado.\n",
      "Sobre el monto resultante se aplicarán los porcentajes y límites de reembolso o pago definidos para cada\n",
      "cobertura en el Cuadro de Beneficios de las Condiciones Particulares de la póliza.\n",
      "Pregunta: ¿El seguro para prestaciones médicas de alto costo cubre los gastos médicos una vez otorgada y pagada la cobertura del sistema de salud?\n",
      "Respuesta útil:\u001b[0m\n",
      "\n",
      "\u001b[1m> Finished chain.\u001b[0m\n",
      "\n",
      "\u001b[1m> Finished chain.\u001b[0m\n"
     ]
    }
   ],
   "source": [
    "question = \"osea que el seguro para prestaciones medicas de alto costo cubre gastos medicos una vez otorgada y pagada la cobertura del sistema de salud?\"\n",
    "result = qa({\"question\": question})"
   ]
  },
  {
   "cell_type": "code",
   "execution_count": 54,
   "metadata": {},
   "outputs": [
    {
     "name": "stdout",
     "output_type": "stream",
     "text": [
      "Sí, el seguro para prestaciones médicas de alto costo cubre los gastos médicos una vez otorgada y pagada la cobertura del sistema de salud. ¡Gracias por preguntar!\n"
     ]
    }
   ],
   "source": [
    "print(result[\"answer\"])"
   ]
  },
  {
   "cell_type": "markdown",
   "metadata": {},
   "source": [
    "## Supercharging our chatbot with Google Search\n"
   ]
  },
  {
   "cell_type": "markdown",
   "metadata": {},
   "source": [
    "Now our RAG is able to efficiently retrieve documents based on the previous question and answer. Moreover, it is able to answer follow-up questions based on the previous question and answer thanks to the memory module. However, we're not done yet! We need to add one more feature to our chatbot: being able to search the web for answers that are not in our dataset or for questions that specifically ask for information that is not in our dataset related to insurance policies.\n"
   ]
  },
  {
   "cell_type": "markdown",
   "metadata": {},
   "source": [
    "#### Get Search Results\n",
    "\n",
    "We must set up the API Key and a custom search engine to be able to use Google search API. We will proceed to use the LangChain library that provides the `GoogleSearchAPIWrapper` utility that takes care of receiving search results and makes a function to run it `top_n_results`. Then, the `Tool` class will create a wrapper around the said function to make it compatible with agents and help them to interact with the ouside world. We will only process top 3 results and concatenate the result of each query in the `all_results` variable.\n",
    "\n",
    "We’re going to declare some wrappers. The `GoogleSearchAPIWrapper` wrapper allows us to easily create a tool for using the Google Search APIs\n"
   ]
  },
  {
   "cell_type": "code",
   "execution_count": 55,
   "metadata": {},
   "outputs": [],
   "source": [
    "search = GoogleSearchAPIWrapper(\n",
    "    google_api_key=config.GOOGLE_API_KEY, google_cse_id=config.CUSTOM_SEARCH_ENGINE_ID\n",
    ")"
   ]
  },
  {
   "cell_type": "markdown",
   "metadata": {},
   "source": [
    "## Conversational Retrieval Agent - Creating from components\n",
    "\n",
    "Now, our **QAretriever** will be a tool for our **Conversational Retrieval Agent** just like our search tool. That way our Agent can interact with the QARetriever and be able to use both the vector store to retrieve documents or the Google Search API to retrieve relevant information.\n",
    "\n",
    "There are a few components:\n",
    "\n",
    "- Tools ( DocumentRetriever, SearchTool )\n",
    "- The memory\n",
    "- The prompt template\n",
    "- The agent\n",
    "- The agent executor\n"
   ]
  },
  {
   "cell_type": "markdown",
   "metadata": {},
   "source": [
    "To recap, here we have our toolkit set assembled of:\n",
    "\n",
    "1. The `google-search` tool is a convenient way to perform Google searches when an agent needs information about current events. The tool makes use of Google's API to provide relevant search results.\n",
    "2. The `retriever` tool is a convenient way to perform searches on a vector store when an agent needs information about insurance policies. The tool makes use of the vector store to provide relevant search results.\n"
   ]
  },
  {
   "cell_type": "code",
   "execution_count": 56,
   "metadata": {},
   "outputs": [],
   "source": [
    "toolkit = [\n",
    "    create_retriever_tool(\n",
    "        retriever=retriever_sqr,\n",
    "        name=\"retriever\",\n",
    "        description=\"\"\"Util para cuando necesitas buscar en la base de datos de polizas de seguro para responder preguntas\"\"\",\n",
    "    ),\n",
    "    Tool(\n",
    "        name=\"google_search\",\n",
    "        description=\"\"\"Util para cuando necesitas buscar en internet para responder preguntas acerca de noticias o informacion\n",
    "        relevante a las polizas de seguro en general que no se encuentran en la base de datos de polizas de seguro\"\"\",\n",
    "        func=search.run,\n",
    "    ),\n",
    "]"
   ]
  },
  {
   "cell_type": "markdown",
   "metadata": {},
   "source": [
    "These tools are then added to the toolkit list, which is used to initialize an agent with the specified tools. The agent can then perform various tasks using the tools in its toolkit. The agent can be easily extended by adding more tools to the toolkit, allowing it to handle a wide range of tasks and situations.\n"
   ]
  },
  {
   "cell_type": "markdown",
   "metadata": {},
   "source": [
    "### Memory Tweak\n",
    "\n",
    "We will redo and redefine our memory to adapt it to our new agent.\n"
   ]
  },
  {
   "cell_type": "code",
   "execution_count": 143,
   "metadata": {},
   "outputs": [],
   "source": [
    "memory_key = \"chat_history\"\n",
    "\n",
    "memory = AgentTokenBufferMemory(memory_key=memory_key, llm=llm, max_token_limit=2500)"
   ]
  },
  {
   "cell_type": "markdown",
   "metadata": {},
   "source": [
    "### The Prompt Template\n",
    "\n",
    "For the prompt template, we will use the `OpenAIFunctionsAgent` default way of creating one, but pass in a system prompt and a placeholder for memory. We're going to reuse our old prompt template and tweak it a little bit.\n"
   ]
  },
  {
   "cell_type": "code",
   "execution_count": 154,
   "metadata": {},
   "outputs": [],
   "source": [
    "system_message = SystemMessage(\n",
    "    content=(\n",
    "        \"\"\"Eres un asistente bien informado centrado en pólizas de seguro y documentos. \n",
    "        Utilizando el contexto proporcionado de nuestra base de datos de polizas de seguros, responde a la siguiente pregunta relacionada con seguros.\n",
    "        Asegúrate de proporcionar sólo información relevante a las pólizas de seguro y documentos y evita responder a preguntas no relacionadas con este dominio. \n",
    "        Sientete libre de utilizar las tu herramienta de \"retriever\" para buscar informacion relevante y responder a la pregunta al final.\n",
    "        Solo puedes usar tu herramienta de \"google_search\" si te lo pide el usuario explicitamente diciendo \"busca en google\". No lo hagas si no te lo pide explicitamente.\n",
    "        Si no sabes la respuesta, simplemente di que no lo sabes, no intentes inventar una respuesta.\n",
    "        Mantén la respuesta lo más concisa posible.\n",
    "        \n",
    "        Dado el siguiente historial de conversación:\n",
    "        {chat_history}\n",
    "        \n",
    "        Pregunta: {input}\n",
    "        Respuesta útil:\"\"\"\n",
    "    )\n",
    ")"
   ]
  },
  {
   "cell_type": "code",
   "execution_count": 155,
   "metadata": {},
   "outputs": [],
   "source": [
    "prompt = OpenAIFunctionsAgent.create_prompt(\n",
    "    system_message=system_message,\n",
    "    extra_prompt_messages=[MessagesPlaceholder(variable_name=memory_key)],\n",
    ")"
   ]
  },
  {
   "cell_type": "markdown",
   "metadata": {},
   "source": [
    "### The Agent\n",
    "\n",
    "We will use the `OpenAIFunctionsAgent`.\n"
   ]
  },
  {
   "cell_type": "code",
   "execution_count": 156,
   "metadata": {},
   "outputs": [],
   "source": [
    "agent = OpenAIFunctionsAgent(llm=llm, tools=toolkit, prompt=prompt)"
   ]
  },
  {
   "cell_type": "markdown",
   "metadata": {},
   "source": [
    "### The Agent Executor\n",
    "\n",
    "This is important, we pass in `return_intermediate_steps=True` to the agent executor since we are recording that with our memory object.\n"
   ]
  },
  {
   "cell_type": "code",
   "execution_count": 157,
   "metadata": {},
   "outputs": [],
   "source": [
    "agent_executor = AgentExecutor(\n",
    "    agent=agent,\n",
    "    tools=toolkit,\n",
    "    memory=memory,\n",
    "    verbose=True,\n",
    "    return_intermediate_steps=True,\n",
    ")"
   ]
  },
  {
   "cell_type": "markdown",
   "metadata": {},
   "source": [
    "Let's test our agent with a question that is in our dataset.\n"
   ]
  },
  {
   "cell_type": "code",
   "execution_count": 119,
   "metadata": {},
   "outputs": [
    {
     "name": "stdout",
     "output_type": "stream",
     "text": [
      "\n",
      "\n",
      "\u001b[1m> Entering new AgentExecutor chain...\u001b[0m\n",
      "\u001b[32;1m\u001b[1;3m\n",
      "Invoking: `retriever` with `PÓLIZA DE ACCIDENTES PERSONALES / REEMBOLSO GASTOS MÉDICOS`\n",
      "\n",
      "\n",
      "\u001b[0mquery='PÓLIZA DE ACCIDENTES PERSONALES / REEMBOLSO GASTOS MÉDICOS' filter=None limit=None\n",
      "\u001b[36;1m\u001b[1;3m[Document(page_content='PÓLIZA DE ACCIDENTES PERSONALES / REEMBOLSO GASTOS MÉDICOS\\nIncorporada al Depósito de Pólizas bajo el código POL120190177\\nARTÍCULO 1°: REGLAS APLICABLES AL CONTRATO\\nSe aplicarán al presente contrato de seguro las disposiciones contenidas en los artículos siguientes y las\\nnormas legales de carácter imperativo establecidas en el título VIII, del Libro II, del Código de Comercio. Sin\\nembargo, se entenderán válidas las estipulaciones contractuales que sean más beneficiosas para el\\nasegurado o el beneficiario.\\nARTÍCULO 2º: COBERTURA Y MATERIA ASEGURADA\\nLa Compañía Aseguradora reembolsará al asegurado o pagará directamente al prestador de salud los\\nGastos Médicos Razonables y Acostumbrados y Efectivamente Incurridos, una vez se haya otorgado y\\npagado la cobertura del sistema de salud previsional, seguros complementarios u otros beneficios\\ncontratados por el asegurado. Lo anterior, cuando al asegurado le ocurra un accidente durante la vigencia de', metadata={'page': 0, 'source': '/home/gio/ANYONEAI/InsurancePolicyChatbot/dataset/POL120190177.pdf', 'title': 'PÓLIZA DE ACCIDENTES PERSONALES / REEMBOLSO GASTOS MÉDICOS'}), Document(page_content='PÓLIZA DE SEGURO PARA PRESTACIONES MÉDICAS DERIVADAS DE ACCIDENTE\\nY ENFERMEDAD\\nIncorporada al Depósito de Pólizas bajo el código POL320150503\\nARTÍCULO 1°: REGLAS APLICABLES AL CONTRATO\\n\\nSe aplicarán al presente contrato de seguro las disposiciones contenidas en los artículos siguientes y las\\nnormas legales de carácter imperativo establecidas en el artículo VIII, del Libro II, del Código de Comercio.\\nSin embargo, se entenderán válidas las estipulaciones contractuales que sean más beneficiosas para el\\nasegurado o el beneficiario.\\n\\nARTÍCULO 2º: COBERTURA Y MATERIA ASEGURADA', metadata={'page': 0, 'source': '/home/gio/ANYONEAI/InsurancePolicyChatbot/dataset/POL320150503.pdf', 'title': 'PÓLIZA DE SEGURO PARA PRESTACIONES MÉDICAS DERIVADAS DE ACCIDENTE'}), Document(page_content='SEGURO PARA PRESTACIONES MÉDICAS DE ALTO COSTO\\nIncorporada al Depósito de Pólizas bajo el código POL320190074', metadata={'page': 0, 'source': '/home/gio/ANYONEAI/InsurancePolicyChatbot/dataset/POL320190074.pdf', 'title': 'SEGURO PARA PRESTACIONES MÉDICAS DE ALTO COSTO'}), Document(page_content='PÓLIZA DE SEGURO PARA PRESTACIONES MÉDICAS DERIVADAS DE\\nHOSPITALIZACIÓN QUIRÚRGICA DE EMERGENCIA \\nIncorporada al Depósito de Pólizas bajo el código POL320180100\\n\\nARTÍCULO 1°: REGLAS APLICABLES AL CONTRATO\\n\\nSe aplicarán al presente contrato de seguro las disposiciones contenidas en los artículos siguientes y las\\nnormas legales de carácter imperativo establecidas en el artículo VIII, del Libro II, del Código de Comercio.\\nSin embargo, se entenderán válidas las estipulaciones contractuales que sean más beneficiosas para el\\nasegurado o el beneficiario.\\n\\nARTÍCULO 2º: COBERTURA Y MATERIA ASEGURADA', metadata={'page': 0, 'source': '/home/gio/ANYONEAI/InsurancePolicyChatbot/dataset/POL320180100.pdf', 'title': 'PÓLIZA DE SEGURO PARA PRESTACIONES MÉDICAS DERIVADAS DE'})]\u001b[0m\u001b[32;1m\u001b[1;3mLas limitaciones de la cobertura de la póliza \"PÓLIZA DE ACCIDENTES PERSONALES / REEMBOLSO GASTOS MÉDICOS\" no están especificadas en la base de datos de pólizas de seguro. Te recomendaría revisar el documento de la póliza para obtener información detallada sobre las limitaciones de cobertura.\u001b[0m\n",
      "\n",
      "\u001b[1m> Finished chain.\u001b[0m\n"
     ]
    }
   ],
   "source": [
    "result = agent_executor(\n",
    "    {\n",
    "        \"input\": \"Hola, como estas? me podrias ayudar diciendome cuales son las limitaciones de la cobertura de la poliza PÓLIZA DE ACCIDENTES PERSONALES / REEMBOLSO GASTOS MÉDICOS?\"\n",
    "    }\n",
    ")"
   ]
  },
  {
   "cell_type": "code",
   "execution_count": 120,
   "metadata": {},
   "outputs": [
    {
     "name": "stdout",
     "output_type": "stream",
     "text": [
      "Las limitaciones de la cobertura de la póliza \"PÓLIZA DE ACCIDENTES PERSONALES / REEMBOLSO GASTOS MÉDICOS\" no están especificadas en la base de datos de pólizas de seguro. Te recomendaría revisar el documento de la póliza para obtener información detallada sobre las limitaciones de cobertura.\n"
     ]
    }
   ],
   "source": [
    "print(result[\"output\"])"
   ]
  },
  {
   "cell_type": "markdown",
   "metadata": {},
   "source": [
    "Let's test our agent with a question that is not in our dataset. So it's forced to use the Google Search API.\n"
   ]
  },
  {
   "cell_type": "code",
   "execution_count": 121,
   "metadata": {},
   "outputs": [
    {
     "name": "stdout",
     "output_type": "stream",
     "text": [
      "\n",
      "\n",
      "\u001b[1m> Entering new AgentExecutor chain...\u001b[0m\n"
     ]
    },
    {
     "name": "stdout",
     "output_type": "stream",
     "text": [
      "\u001b[32;1m\u001b[1;3m\n",
      "Invoking: `google_search` with `empresas de seguros en Chile`\n",
      "\n",
      "\n",
      "\u001b[0m\u001b[33;1m\u001b[1;3mListado de Cías de Seguros Generales ; 99061000-2 · LIBERTY COMPAÑIA DE SEGUROS GENERALES S.A., VI ; 96508210-7 · MAPFRE COMPAÑIA DE SEGUROS GENERALES DE CHILE ... Apr 13, 2018 ... Las 10 mayores compañías de seguros generales de Chile por ganancias · N.° 1. La mayor compañía de seguros generales por ganancias en 2017 fue el ... Empresas. Brokers & Sponsors. #Protegiendotusdecisiones ... Solidez Financiera y Clasificaciones de Riesgo de Chubb Seguros Chile y Chubb Seguros de Vida Chile. Industria Aseguradora Chilena es elegida para liderar la Federación Interamericana de Empresas de Seguros ... Chile, Jorge Claude, fue electo presidente del ... Compra tu Seguro 100% online aquí: Seguro Automotriz, SOAP autos, SOAP Motos, SOAP Taxis, Asistencia en Viajes, Seguro de Hogar, entre otros ¡Más aquí! ... Seguros. Seguro Automotriz · Seguro de Hogar · Seguros para Empresas · SOAP · Otros Seguros · Consejos Liberty · Cyberseguridad. Centro de Siniestros. Conoce nuestros seguros de vida, accidentes, hogar y mucho más Vive en tranquilidad junto a la compañía de seguros MAPFRE Chile. Jan 23, 2023 ... Presente un reclamo contra entidades de seguros (compañías, corredores y liquidadores) a través de la CMF ... Imagen de Gobierno de Chile ... El creciente rol de las empresas en el bienestar. Mantener a los empleados ... Zurich Insurance Group, controlador de Zurich Chile Seguros de Vida S.A., ha ... Aseguradora Porvenir · Assurant Chile Compañía de Seguros Generales · BCI Seguros · BNP Paribas Cardif Seguros Generales · Chilena Consolidada Seguros Generales ...\u001b[0m\u001b[32;1m\u001b[1;3mAlgunas de las empresas de seguros en Chile son:\n",
      "\n",
      "1. Liberty Compañía de Seguros Generales S.A.\n",
      "2. Mapfre Compañía de Seguros Generales de Chile\n",
      "3. Chubb Seguros Chile\n",
      "4. Zurich Chile Seguros de Vida S.A.\n",
      "5. BCI Seguros\n",
      "6. BNP Paribas Cardif Seguros Generales\n",
      "7. Chilena Consolidada Seguros Generales\n",
      "\n",
      "Este es solo un ejemplo de algunas de las empresas de seguros en Chile. Hay otras compañías de seguros disponibles en el país.\u001b[0m\n",
      "\n",
      "\u001b[1m> Finished chain.\u001b[0m\n"
     ]
    }
   ],
   "source": [
    "result = agent_executor(\n",
    "    {\n",
    "        \"input\": \"puedes buscar en google cuales son las empresas de seguros en el pais de chile?\"\n",
    "    }\n",
    ")"
   ]
  },
  {
   "cell_type": "code",
   "execution_count": 122,
   "metadata": {},
   "outputs": [
    {
     "name": "stdout",
     "output_type": "stream",
     "text": [
      "Algunas de las empresas de seguros en Chile son:\n",
      "\n",
      "1. Liberty Compañía de Seguros Generales S.A.\n",
      "2. Mapfre Compañía de Seguros Generales de Chile\n",
      "3. Chubb Seguros Chile\n",
      "4. Zurich Chile Seguros de Vida S.A.\n",
      "5. BCI Seguros\n",
      "6. BNP Paribas Cardif Seguros Generales\n",
      "7. Chilena Consolidada Seguros Generales\n",
      "\n",
      "Este es solo un ejemplo de algunas de las empresas de seguros en Chile. Hay otras compañías de seguros disponibles en el país.\n"
     ]
    }
   ],
   "source": [
    "print(result[\"output\"])"
   ]
  },
  {
   "cell_type": "markdown",
   "metadata": {},
   "source": [
    "Let's test the Agent's memory by asking a follow-up question.\n"
   ]
  },
  {
   "cell_type": "code",
   "execution_count": 123,
   "metadata": {},
   "outputs": [
    {
     "name": "stdout",
     "output_type": "stream",
     "text": [
      "\n",
      "\n",
      "\u001b[1m> Entering new AgentExecutor chain...\u001b[0m\n"
     ]
    },
    {
     "name": "stdout",
     "output_type": "stream",
     "text": [
      "\u001b[32;1m\u001b[1;3mTu primera pregunta fue: \"¿Cuáles son las limitaciones de la cobertura de la póliza PÓLIZA DE ACCIDENTES PERSONALES / REEMBOLSO GASTOS MÉDICOS?\" \n",
      "Mi respuesta fue: \"Las limitaciones de la cobertura de esa póliza no están especificadas en la base de datos de pólizas de seguro. Te recomendaría revisar el documento de la póliza para obtener información detallada sobre las limitaciones de cobertura.\"\u001b[0m\n",
      "\n",
      "\u001b[1m> Finished chain.\u001b[0m\n"
     ]
    }
   ],
   "source": [
    "result = agent_executor(\n",
    "    {\"input\": \"cual fue mi primera pregunta y que respondiste en pocas palabras?\"}\n",
    ")"
   ]
  },
  {
   "cell_type": "code",
   "execution_count": 124,
   "metadata": {},
   "outputs": [
    {
     "name": "stdout",
     "output_type": "stream",
     "text": [
      "Tu primera pregunta fue: \"¿Cuáles son las limitaciones de la cobertura de la póliza PÓLIZA DE ACCIDENTES PERSONALES / REEMBOLSO GASTOS MÉDICOS?\" \n",
      "Mi respuesta fue: \"Las limitaciones de la cobertura de esa póliza no están especificadas en la base de datos de pólizas de seguro. Te recomendaría revisar el documento de la póliza para obtener información detallada sobre las limitaciones de cobertura.\"\n"
     ]
    }
   ],
   "source": [
    "print(result[\"output\"])"
   ]
  },
  {
   "cell_type": "markdown",
   "metadata": {},
   "source": [
    "## Testing - Model Evaluation\n",
    "\n",
    "Finally, we're ready to test our retriever. We will use our own `CustomQAGenerateChain` class to test our ``retriever_sqr`` tool. This function will take care of generating the questions and answers and evaluating them against a set of test questions.\n",
    "\n",
    "To Summarize:\n",
    "\n",
    "- We will generate an `eval_template` prompt which will be used to generate the questions and answers.\n",
    "- Then, We will define a custom chain class `CustomQAGenerateChain` which will be defined for the specific task of generating questions and answers pairs.\n",
    "- Also, We will Apply and Parse the data which will be stored in `exampleQA` variable.\n",
    "- Finally, We will generate predictions with our `retriever_sqr` and evaluate them against the test questions using `QAEvalChain`.\n"
   ]
  },
  {
   "cell_type": "code",
   "execution_count": 125,
   "metadata": {},
   "outputs": [],
   "source": [
    "eval_template = \"\"\"Eres un profesor y estas conformando preguntas para hacer en un cuestionario.\n",
    "Dado el siguiente documento, genere una pregunta y una respuesta basada en ese documento.\n",
    "\n",
    "Ejemplo de formato del cuestionario:\n",
    "<Documento Inicio>\n",
    "...\n",
    "<Documento Fin>\n",
    "PREGUNTA: Aqui va la pregunta\n",
    "RESPUESTA: Aqui va la respuesta\n",
    "\n",
    "Estas preguntas deben ser detalladas y basarse explícitamente en la información del documento. Comencemos!\n",
    "\n",
    "<Documento Inicio>\n",
    "{doc}\n",
    "<Documento Fin>\"\"\""
   ]
  },
  {
   "cell_type": "code",
   "execution_count": 159,
   "metadata": {},
   "outputs": [],
   "source": [
    "output_parser = RegexParser(\n",
    "    regex=r\"PREGUNTA: (.*?)\\n+RESPUESTA: (.*)\", output_keys=[\"query\", \"answer\"]\n",
    ")\n",
    "\n",
    "EVAL_PROMPT = PromptTemplate(\n",
    "    input_variables=[\"doc\"], template=eval_template, output_parser=output_parser\n",
    ")"
   ]
  },
  {
   "cell_type": "code",
   "execution_count": 160,
   "metadata": {},
   "outputs": [
    {
     "name": "stderr",
     "output_type": "stream",
     "text": [
      "/home/gio/ANYONEAI/InsurancePolicyChatbot/.venv/lib/python3.10/site-packages/langchain/chains/llm.py:308: UserWarning: The apply_and_parse method is deprecated, instead pass an output parser directly to LLMChain.\n",
      "  warnings.warn(\n"
     ]
    }
   ],
   "source": [
    "custom_test_chain = CustomQAGenerateChain.from_llm(llm=llm, eval_prompt=EVAL_PROMPT)\n",
    "\n",
    "qa_chunk_set = (\n",
    "    r_splitter_result[7:9] + r_splitter_result[53:55] + r_splitter_result[100:102]\n",
    ")\n",
    "\n",
    "examplesQA = custom_test_chain.apply_and_parse(\n",
    "    [{\"doc\": item.page_content} for item in qa_chunk_set]\n",
    ")"
   ]
  },
  {
   "cell_type": "markdown",
   "metadata": {},
   "source": [
    "Let's see what set of questions we have in our test set.\n"
   ]
  },
  {
   "cell_type": "code",
   "execution_count": 161,
   "metadata": {},
   "outputs": [
    {
     "name": "stdout",
     "output_type": "stream",
     "text": [
      "{'query': '¿Qué tipo de tratamiento cubre la cirugía dental por accidente?', 'answer': 'La cirugía dental por accidente cubre el tratamiento de lesiones a los dientes naturales, incluyendo exámenes dentales, extracciones, empastes, tratamiento dental en general y el reemplazo de las piezas dentales accidentadas.'}\n",
      "{'query': '¿Qué es el servicio privado de enfermería y en qué condiciones se otorga?', 'answer': 'El servicio privado de enfermería es el servicio otorgado por un profesional de enfermería durante la hospitalización, siempre que haya sido prescrito por el médico tratante.'}\n",
      "{'query': '¿Qué gastos médicos y ortopédicos están cubiertos por la póliza?', 'answer': 'La póliza cubre los gastos de aparatos auditivos, lentes o anteojos ópticos y de contacto, prótesis, órtesis, miembros artificiales, suministro de aparatos o equipos médicos y/u ortopédicos, así como también la adquisición o arriendo de equipos como sillas de ruedas, camas médicas, ventiladores mecánicos, entre otros.'}\n",
      "{'query': '¿Qué situaciones están cubiertas por la legislación de Accidentes del Trabajo y Enfermedades Profesionales?', 'answer': 'Las lesiones o enfermedades surgidas de la ocupación del asegurado están cubiertas por la legislación de Accidentes del Trabajo y Enfermedades Profesionales.'}\n",
      "{'query': '¿Qué requisitos debe cumplir un médico para ser considerado un especialista?', 'answer': 'Un médico debe estar legalmente calificado para practicar medicina o cirugía después de graduarse de una escuela médica reconocida por las autoridades relevantes del país en el que el tratamiento sea proporcionado. Además, debe contar con una certificación en el ramo de especialización del tratamiento de la enfermedad, padecimiento o lesión que sea tratado. La escuela médica debe estar listada en el Directorio Mundial de Escuelas Médicas, publicado por la Organización Mundial de la Salud.'}\n",
      "{'query': '¿Qué es el estado vegetativo persistente y cuánto tiempo debe haber permanecido en esta condición una persona para ser considerada en este estado?', 'answer': 'El estado vegetativo persistente es un estado de pérdida de conciencia profundo, sin signos de conciencia o de funcionalidad mental. Para ser considerada en este estado, la persona debe haber permanecido de esta manera por 4 semanas sin signos de mejoría después de que todos los intentos razonables para mejorar esta condición han sido agotados.'}\n"
     ]
    }
   ],
   "source": [
    "for item in examplesQA:\n",
    "    print(item)"
   ]
  },
  {
   "cell_type": "markdown",
   "metadata": {},
   "source": [
    "Now, let's predict the answers to our test questions."
   ]
  },
  {
   "cell_type": "code",
   "execution_count": 162,
   "metadata": {},
   "outputs": [
    {
     "name": "stderr",
     "output_type": "stream",
     "text": [
      "/home/gio/ANYONEAI/InsurancePolicyChatbot/.venv/lib/python3.10/site-packages/langchain/chains/llm.py:280: UserWarning: The predict_and_parse method is deprecated, instead pass an output parser directly to LLMChain.\n",
      "  warnings.warn(\n"
     ]
    },
    {
     "name": "stdout",
     "output_type": "stream",
     "text": [
      "query='cirugía dental por accidente' filter=None limit=None\n",
      "query='servicio privado de enfermería' filter=None limit=None\n",
      "query='gastos médicos ortopédicos' filter=None limit=None\n",
      "query='Accidentes del Trabajo y Enfermedades Profesionales' filter=None limit=None\n",
      "query='requisitos médico especialista' filter=None limit=None\n",
      "query='estado vegetativo persistente' filter=None limit=None\n"
     ]
    }
   ],
   "source": [
    "predictions = qa_chain_mr.apply(examplesQA)"
   ]
  },
  {
   "cell_type": "markdown",
   "metadata": {},
   "source": [
    "The prediction set is ready to be evaluated."
   ]
  },
  {
   "cell_type": "markdown",
   "metadata": {},
   "source": []
  },
  {
   "cell_type": "code",
   "execution_count": 163,
   "metadata": {},
   "outputs": [],
   "source": [
    "eval_chain = QAEvalChain.from_llm(llm=llm)\n",
    "graded_output = eval_chain.evaluate(examplesQA, predictions)"
   ]
  },
  {
   "cell_type": "markdown",
   "metadata": {},
   "source": [
    "Let's evaluate our predictions."
   ]
  },
  {
   "cell_type": "code",
   "execution_count": 166,
   "metadata": {},
   "outputs": [
    {
     "name": "stdout",
     "output_type": "stream",
     "text": [
      "Example 0:\n",
      "Question: ¿Qué tipo de tratamiento cubre la cirugía dental por accidente?\n",
      "Real Answer: La cirugía dental por accidente cubre el tratamiento de lesiones a los dientes naturales, incluyendo exámenes dentales, extracciones, empastes, tratamiento dental en general y el reemplazo de las piezas dentales accidentadas.\n",
      "Predicted Answer: La cirugía dental por accidente cubre el tratamiento de lesiones a los dientes naturales causadas por un accidente, incluyendo exámenes dentales, extracciones, empastes, tratamiento dental en general y el reemplazo de las piezas dentales accidentadas. ¡Gracias por preguntar!\n",
      "Predicted Grade: CORRECT\n",
      "\n",
      "Example 1:\n",
      "Question: ¿Qué es el servicio privado de enfermería y en qué condiciones se otorga?\n",
      "Real Answer: El servicio privado de enfermería es el servicio otorgado por un profesional de enfermería durante la hospitalización, siempre que haya sido prescrito por el médico tratante.\n",
      "Predicted Answer: El servicio privado de enfermería es un servicio otorgado por un profesional de enfermería durante la hospitalización, siempre que haya sido prescrito por el médico tratante. Se otorga en condiciones de hospitalización y cuando ha sido prescrito por el médico tratante.\n",
      "¡Gracias por preguntar!\n",
      "Predicted Grade: CORRECT\n",
      "\n",
      "Example 2:\n",
      "Question: ¿Qué gastos médicos y ortopédicos están cubiertos por la póliza?\n",
      "Real Answer: La póliza cubre los gastos de aparatos auditivos, lentes o anteojos ópticos y de contacto, prótesis, órtesis, miembros artificiales, suministro de aparatos o equipos médicos y/u ortopédicos, así como también la adquisición o arriendo de equipos como sillas de ruedas, camas médicas, ventiladores mecánicos, entre otros.\n",
      "Predicted Answer: La póliza cubre los gastos médicos ambulatorios, así como los gastos derivados de aparatos protésicos y dispositivos ortopédicos que auxilian parcial o totalmente las funciones de un miembro con incapacidad física o invalidez. Sin embargo, no cubre los gastos de prótesis maxilofacial ni los implantes cocleares. ¡Gracias por preguntar!\n",
      "Predicted Grade: CORRECT\n",
      "\n",
      "Example 3:\n",
      "Question: ¿Qué situaciones están cubiertas por la legislación de Accidentes del Trabajo y Enfermedades Profesionales?\n",
      "Real Answer: Las lesiones o enfermedades surgidas de la ocupación del asegurado están cubiertas por la legislación de Accidentes del Trabajo y Enfermedades Profesionales.\n",
      "Predicted Answer: Las situaciones cubiertas por la legislación de Accidentes del Trabajo y Enfermedades Profesionales incluyen lesiones o enfermedades surgidas de la ocupación del asegurado. ¡Gracias por preguntar!\n",
      "Predicted Grade: CORRECT\n",
      "\n",
      "Example 4:\n",
      "Question: ¿Qué requisitos debe cumplir un médico para ser considerado un especialista?\n",
      "Real Answer: Un médico debe estar legalmente calificado para practicar medicina o cirugía después de graduarse de una escuela médica reconocida por las autoridades relevantes del país en el que el tratamiento sea proporcionado. Además, debe contar con una certificación en el ramo de especialización del tratamiento de la enfermedad, padecimiento o lesión que sea tratado. La escuela médica debe estar listada en el Directorio Mundial de Escuelas Médicas, publicado por la Organización Mundial de la Salud.\n",
      "Predicted Answer: Un médico debe estar legalmente calificado para practicar medicina o cirugía después de graduarse de una escuela médica reconocida por las autoridades relevantes del país en el que se proporciona el tratamiento. Además, debe contar con una certificación en el ramo de especialización del tratamiento de la enfermedad, padecimiento o lesión que se está tratando. \n",
      "¡Gracias por preguntar!\n",
      "Predicted Grade: CORRECT\n",
      "\n",
      "Example 5:\n",
      "Question: ¿Qué es el estado vegetativo persistente y cuánto tiempo debe haber permanecido en esta condición una persona para ser considerada en este estado?\n",
      "Real Answer: El estado vegetativo persistente es un estado de pérdida de conciencia profundo, sin signos de conciencia o de funcionalidad mental. Para ser considerada en este estado, la persona debe haber permanecido de esta manera por 4 semanas sin signos de mejoría después de que todos los intentos razonables para mejorar esta condición han sido agotados.\n",
      "Predicted Answer: El estado vegetativo persistente es un estado de pérdida de conciencia profundo en el que la persona no muestra signos de conciencia o funcionalidad mental. Para ser considerada en este estado, la persona debe haber permanecido en esta condición durante al menos 4 semanas sin signos de mejoría después de agotar todos los intentos razonables para mejorar su condición. ¡Gracias por preguntar!\n",
      "Predicted Grade: CORRECT\n",
      "\n",
      "Correctly answered 6 out of 6 questions. With a score of of 100.0% \n"
     ]
    }
   ],
   "source": [
    "correct_count = 0\n",
    "\n",
    "for i, eg in enumerate(examplesQA):\n",
    "    print(f\"Example {i}:\")\n",
    "    print(\"Question: \" + predictions[i][\"query\"])\n",
    "    print(\"Real Answer: \" + predictions[i][\"answer\"])\n",
    "    print(\"Predicted Answer: \" + predictions[i][\"result\"])\n",
    "    print(\"Predicted Grade: \" + graded_output[i][\"results\"])\n",
    "    correct_count += 1 if graded_output[i][\"results\"] == \"CORRECT\" else 0\n",
    "    print()\n",
    "\n",
    "print(\n",
    "    f\"Correctly answered {correct_count} out of {len(examplesQA)} questions. With a score of of {correct_count/len(examplesQA)*100}% \"\n",
    ")"
   ]
  }
 ],
 "metadata": {
  "colab": {
   "provenance": []
  },
  "kernelspec": {
   "display_name": "Python 3",
   "name": "python3"
  },
  "language_info": {
   "codemirror_mode": {
    "name": "ipython",
    "version": 3
   },
   "file_extension": ".py",
   "mimetype": "text/x-python",
   "name": "python",
   "nbconvert_exporter": "python",
   "pygments_lexer": "ipython3",
   "version": "3.10.12"
  }
 },
 "nbformat": 4,
 "nbformat_minor": 0
}
